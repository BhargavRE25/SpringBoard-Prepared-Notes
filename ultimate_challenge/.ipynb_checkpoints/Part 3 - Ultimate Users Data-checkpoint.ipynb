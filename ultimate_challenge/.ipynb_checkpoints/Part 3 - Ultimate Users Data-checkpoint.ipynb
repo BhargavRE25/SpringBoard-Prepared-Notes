{
 "cells": [
  {
   "cell_type": "code",
   "execution_count": 541,
   "metadata": {},
   "outputs": [],
   "source": [
    "import pandas as pd\n",
    "import numpy as np\n",
    "import json\n",
    "import matplotlib.pyplot as plt\n",
    "from pprint import pprint\n",
    "from datetime import datetime, timedelta\n",
    "import seaborn as sns"
   ]
  },
  {
   "cell_type": "markdown",
   "metadata": {},
   "source": [
    "## Load Data And Explore"
   ]
  },
  {
   "cell_type": "code",
   "execution_count": 542,
   "metadata": {},
   "outputs": [],
   "source": [
    "with open('ultimate_data_challenge.json') as fh:\n",
    "    data = json.load(fh)"
   ]
  },
  {
   "cell_type": "code",
   "execution_count": 543,
   "metadata": {},
   "outputs": [
    {
     "name": "stdout",
     "output_type": "stream",
     "text": [
      "{'avg_dist': 3.67,\n",
      " 'avg_rating_by_driver': 5.0,\n",
      " 'avg_rating_of_driver': 4.7,\n",
      " 'avg_surge': 1.1,\n",
      " 'city': \"King's Landing\",\n",
      " 'last_trip_date': '2014-06-17',\n",
      " 'phone': 'iPhone',\n",
      " 'signup_date': '2014-01-25',\n",
      " 'surge_pct': 15.4,\n",
      " 'trips_in_first_30_days': 4,\n",
      " 'ultimate_black_user': True,\n",
      " 'weekday_pct': 46.2}\n",
      "\n",
      "\n",
      "dict_keys(['city', 'trips_in_first_30_days', 'signup_date', 'avg_rating_of_driver', 'avg_surge', 'last_trip_date', 'phone', 'surge_pct', 'ultimate_black_user', 'weekday_pct', 'avg_dist', 'avg_rating_by_driver'])\n"
     ]
    }
   ],
   "source": [
    "pprint(data[0])\n",
    "print('\\n')\n",
    "pprint(data[0].keys())"
   ]
  },
  {
   "cell_type": "code",
   "execution_count": 544,
   "metadata": {},
   "outputs": [],
   "source": [
    "data_dict = {'avg_dist':[], 'avg_rating_by_driver':[], 'avg_rating_of_driver':[], 'avg_surge':[], 'city':[],\n",
    "         'last_trip_date':[], 'phone':[], 'signup_date':[], 'surge_pct':[], 'trips_in_first_30_days':[],\n",
    "         'ultimate_black_user':[], 'weekday_pct':[]}"
   ]
  },
  {
   "cell_type": "code",
   "execution_count": 545,
   "metadata": {},
   "outputs": [],
   "source": [
    "for i in range(len(data)):\n",
    "    data_dict['avg_dist'].append(data[i]['avg_dist'])\n",
    "    data_dict['avg_rating_by_driver'].append(data[i]['avg_rating_by_driver'])\n",
    "    data_dict['avg_rating_of_driver'].append(data[i]['avg_rating_of_driver'])\n",
    "    data_dict['avg_surge'].append(data[i]['avg_surge'])\n",
    "    data_dict['city'].append(data[i]['city'])\n",
    "    data_dict['last_trip_date'].append(data[i]['last_trip_date'])\n",
    "    data_dict['phone'].append(data[i]['phone'])\n",
    "    data_dict['signup_date'].append(data[i]['signup_date'])\n",
    "    data_dict['surge_pct'].append(data[i]['surge_pct'])\n",
    "    data_dict['trips_in_first_30_days'].append(data[i]['trips_in_first_30_days'])\n",
    "    data_dict['ultimate_black_user'].append(data[i]['ultimate_black_user'])\n",
    "    data_dict['weekday_pct'].append(data[i]['weekday_pct'])"
   ]
  },
  {
   "cell_type": "code",
   "execution_count": 546,
   "metadata": {},
   "outputs": [
    {
     "data": {
      "text/html": [
       "<div>\n",
       "<style scoped>\n",
       "    .dataframe tbody tr th:only-of-type {\n",
       "        vertical-align: middle;\n",
       "    }\n",
       "\n",
       "    .dataframe tbody tr th {\n",
       "        vertical-align: top;\n",
       "    }\n",
       "\n",
       "    .dataframe thead th {\n",
       "        text-align: right;\n",
       "    }\n",
       "</style>\n",
       "<table border=\"1\" class=\"dataframe\">\n",
       "  <thead>\n",
       "    <tr style=\"text-align: right;\">\n",
       "      <th></th>\n",
       "      <th>avg_dist</th>\n",
       "      <th>avg_rating_by_driver</th>\n",
       "      <th>avg_rating_of_driver</th>\n",
       "      <th>avg_surge</th>\n",
       "      <th>city</th>\n",
       "      <th>last_trip_date</th>\n",
       "      <th>phone</th>\n",
       "      <th>signup_date</th>\n",
       "      <th>surge_pct</th>\n",
       "      <th>trips_in_first_30_days</th>\n",
       "      <th>ultimate_black_user</th>\n",
       "      <th>weekday_pct</th>\n",
       "    </tr>\n",
       "  </thead>\n",
       "  <tbody>\n",
       "    <tr>\n",
       "      <th>0</th>\n",
       "      <td>3.67</td>\n",
       "      <td>5.0</td>\n",
       "      <td>4.7</td>\n",
       "      <td>1.10</td>\n",
       "      <td>King's Landing</td>\n",
       "      <td>2014-06-17</td>\n",
       "      <td>iPhone</td>\n",
       "      <td>2014-01-25</td>\n",
       "      <td>15.4</td>\n",
       "      <td>4</td>\n",
       "      <td>True</td>\n",
       "      <td>46.2</td>\n",
       "    </tr>\n",
       "    <tr>\n",
       "      <th>1</th>\n",
       "      <td>8.26</td>\n",
       "      <td>5.0</td>\n",
       "      <td>5.0</td>\n",
       "      <td>1.00</td>\n",
       "      <td>Astapor</td>\n",
       "      <td>2014-05-05</td>\n",
       "      <td>Android</td>\n",
       "      <td>2014-01-29</td>\n",
       "      <td>0.0</td>\n",
       "      <td>0</td>\n",
       "      <td>False</td>\n",
       "      <td>50.0</td>\n",
       "    </tr>\n",
       "    <tr>\n",
       "      <th>2</th>\n",
       "      <td>0.77</td>\n",
       "      <td>5.0</td>\n",
       "      <td>4.3</td>\n",
       "      <td>1.00</td>\n",
       "      <td>Astapor</td>\n",
       "      <td>2014-01-07</td>\n",
       "      <td>iPhone</td>\n",
       "      <td>2014-01-06</td>\n",
       "      <td>0.0</td>\n",
       "      <td>3</td>\n",
       "      <td>False</td>\n",
       "      <td>100.0</td>\n",
       "    </tr>\n",
       "    <tr>\n",
       "      <th>3</th>\n",
       "      <td>2.36</td>\n",
       "      <td>4.9</td>\n",
       "      <td>4.6</td>\n",
       "      <td>1.14</td>\n",
       "      <td>King's Landing</td>\n",
       "      <td>2014-06-29</td>\n",
       "      <td>iPhone</td>\n",
       "      <td>2014-01-10</td>\n",
       "      <td>20.0</td>\n",
       "      <td>9</td>\n",
       "      <td>True</td>\n",
       "      <td>80.0</td>\n",
       "    </tr>\n",
       "    <tr>\n",
       "      <th>4</th>\n",
       "      <td>3.13</td>\n",
       "      <td>4.9</td>\n",
       "      <td>4.4</td>\n",
       "      <td>1.19</td>\n",
       "      <td>Winterfell</td>\n",
       "      <td>2014-03-15</td>\n",
       "      <td>Android</td>\n",
       "      <td>2014-01-27</td>\n",
       "      <td>11.8</td>\n",
       "      <td>14</td>\n",
       "      <td>False</td>\n",
       "      <td>82.4</td>\n",
       "    </tr>\n",
       "  </tbody>\n",
       "</table>\n",
       "</div>"
      ],
      "text/plain": [
       "   avg_dist  avg_rating_by_driver  avg_rating_of_driver  avg_surge  \\\n",
       "0      3.67                   5.0                   4.7       1.10   \n",
       "1      8.26                   5.0                   5.0       1.00   \n",
       "2      0.77                   5.0                   4.3       1.00   \n",
       "3      2.36                   4.9                   4.6       1.14   \n",
       "4      3.13                   4.9                   4.4       1.19   \n",
       "\n",
       "             city last_trip_date    phone signup_date  surge_pct  \\\n",
       "0  King's Landing     2014-06-17   iPhone  2014-01-25       15.4   \n",
       "1         Astapor     2014-05-05  Android  2014-01-29        0.0   \n",
       "2         Astapor     2014-01-07   iPhone  2014-01-06        0.0   \n",
       "3  King's Landing     2014-06-29   iPhone  2014-01-10       20.0   \n",
       "4      Winterfell     2014-03-15  Android  2014-01-27       11.8   \n",
       "\n",
       "   trips_in_first_30_days  ultimate_black_user  weekday_pct  \n",
       "0                       4                 True         46.2  \n",
       "1                       0                False         50.0  \n",
       "2                       3                False        100.0  \n",
       "3                       9                 True         80.0  \n",
       "4                      14                False         82.4  "
      ]
     },
     "execution_count": 546,
     "metadata": {},
     "output_type": "execute_result"
    }
   ],
   "source": [
    "data_df = pd.DataFrame(data_dict)\n",
    "data_df.head()"
   ]
  },
  {
   "cell_type": "code",
   "execution_count": 547,
   "metadata": {},
   "outputs": [
    {
     "name": "stdout",
     "output_type": "stream",
     "text": [
      "<class 'pandas.core.frame.DataFrame'>\n",
      "RangeIndex: 50000 entries, 0 to 49999\n",
      "Data columns (total 12 columns):\n",
      "avg_dist                  50000 non-null float64\n",
      "avg_rating_by_driver      49799 non-null float64\n",
      "avg_rating_of_driver      41878 non-null float64\n",
      "avg_surge                 50000 non-null float64\n",
      "city                      50000 non-null object\n",
      "last_trip_date            50000 non-null object\n",
      "phone                     49604 non-null object\n",
      "signup_date               50000 non-null object\n",
      "surge_pct                 50000 non-null float64\n",
      "trips_in_first_30_days    50000 non-null int64\n",
      "ultimate_black_user       50000 non-null bool\n",
      "weekday_pct               50000 non-null float64\n",
      "dtypes: bool(1), float64(6), int64(1), object(4)\n",
      "memory usage: 4.2+ MB\n"
     ]
    }
   ],
   "source": [
    "data_df.info()"
   ]
  },
  {
   "cell_type": "markdown",
   "metadata": {},
   "source": [
    "There's 50,000 rows of data with almost all of it complete. Only **avg_rating_by_driver**, **avg_rating_of_driver**, and **phone** coloumns contains missing data. The phone data might not require a very intelligent imputation. There's only approx 400 missing data points out of 50000. Had there been more, then there might be some insight as to maybe the app doesn't work very good on a specific type of phone(s). The ratings should and will be imputed however as ratings are usually an indication of retention."
   ]
  },
  {
   "cell_type": "code",
   "execution_count": 548,
   "metadata": {},
   "outputs": [
    {
     "data": {
      "text/html": [
       "<div>\n",
       "<style scoped>\n",
       "    .dataframe tbody tr th:only-of-type {\n",
       "        vertical-align: middle;\n",
       "    }\n",
       "\n",
       "    .dataframe tbody tr th {\n",
       "        vertical-align: top;\n",
       "    }\n",
       "\n",
       "    .dataframe thead th {\n",
       "        text-align: right;\n",
       "    }\n",
       "</style>\n",
       "<table border=\"1\" class=\"dataframe\">\n",
       "  <thead>\n",
       "    <tr style=\"text-align: right;\">\n",
       "      <th></th>\n",
       "      <th>avg_dist</th>\n",
       "      <th>avg_rating_by_driver</th>\n",
       "      <th>avg_rating_of_driver</th>\n",
       "      <th>avg_surge</th>\n",
       "      <th>surge_pct</th>\n",
       "      <th>trips_in_first_30_days</th>\n",
       "      <th>weekday_pct</th>\n",
       "    </tr>\n",
       "  </thead>\n",
       "  <tbody>\n",
       "    <tr>\n",
       "      <th>count</th>\n",
       "      <td>50000.000000</td>\n",
       "      <td>49799.000000</td>\n",
       "      <td>41878.000000</td>\n",
       "      <td>50000.000000</td>\n",
       "      <td>50000.000000</td>\n",
       "      <td>50000.000000</td>\n",
       "      <td>50000.000000</td>\n",
       "    </tr>\n",
       "    <tr>\n",
       "      <th>mean</th>\n",
       "      <td>5.796827</td>\n",
       "      <td>4.778158</td>\n",
       "      <td>4.601559</td>\n",
       "      <td>1.074764</td>\n",
       "      <td>8.849536</td>\n",
       "      <td>2.278200</td>\n",
       "      <td>60.926084</td>\n",
       "    </tr>\n",
       "    <tr>\n",
       "      <th>std</th>\n",
       "      <td>5.707357</td>\n",
       "      <td>0.446652</td>\n",
       "      <td>0.617338</td>\n",
       "      <td>0.222336</td>\n",
       "      <td>19.958811</td>\n",
       "      <td>3.792684</td>\n",
       "      <td>37.081503</td>\n",
       "    </tr>\n",
       "    <tr>\n",
       "      <th>min</th>\n",
       "      <td>0.000000</td>\n",
       "      <td>1.000000</td>\n",
       "      <td>1.000000</td>\n",
       "      <td>1.000000</td>\n",
       "      <td>0.000000</td>\n",
       "      <td>0.000000</td>\n",
       "      <td>0.000000</td>\n",
       "    </tr>\n",
       "    <tr>\n",
       "      <th>25%</th>\n",
       "      <td>2.420000</td>\n",
       "      <td>4.700000</td>\n",
       "      <td>4.300000</td>\n",
       "      <td>1.000000</td>\n",
       "      <td>0.000000</td>\n",
       "      <td>0.000000</td>\n",
       "      <td>33.300000</td>\n",
       "    </tr>\n",
       "    <tr>\n",
       "      <th>50%</th>\n",
       "      <td>3.880000</td>\n",
       "      <td>5.000000</td>\n",
       "      <td>4.900000</td>\n",
       "      <td>1.000000</td>\n",
       "      <td>0.000000</td>\n",
       "      <td>1.000000</td>\n",
       "      <td>66.700000</td>\n",
       "    </tr>\n",
       "    <tr>\n",
       "      <th>75%</th>\n",
       "      <td>6.940000</td>\n",
       "      <td>5.000000</td>\n",
       "      <td>5.000000</td>\n",
       "      <td>1.050000</td>\n",
       "      <td>8.600000</td>\n",
       "      <td>3.000000</td>\n",
       "      <td>100.000000</td>\n",
       "    </tr>\n",
       "    <tr>\n",
       "      <th>max</th>\n",
       "      <td>160.960000</td>\n",
       "      <td>5.000000</td>\n",
       "      <td>5.000000</td>\n",
       "      <td>8.000000</td>\n",
       "      <td>100.000000</td>\n",
       "      <td>125.000000</td>\n",
       "      <td>100.000000</td>\n",
       "    </tr>\n",
       "  </tbody>\n",
       "</table>\n",
       "</div>"
      ],
      "text/plain": [
       "           avg_dist  avg_rating_by_driver  avg_rating_of_driver     avg_surge  \\\n",
       "count  50000.000000          49799.000000          41878.000000  50000.000000   \n",
       "mean       5.796827              4.778158              4.601559      1.074764   \n",
       "std        5.707357              0.446652              0.617338      0.222336   \n",
       "min        0.000000              1.000000              1.000000      1.000000   \n",
       "25%        2.420000              4.700000              4.300000      1.000000   \n",
       "50%        3.880000              5.000000              4.900000      1.000000   \n",
       "75%        6.940000              5.000000              5.000000      1.050000   \n",
       "max      160.960000              5.000000              5.000000      8.000000   \n",
       "\n",
       "          surge_pct  trips_in_first_30_days   weekday_pct  \n",
       "count  50000.000000            50000.000000  50000.000000  \n",
       "mean       8.849536                2.278200     60.926084  \n",
       "std       19.958811                3.792684     37.081503  \n",
       "min        0.000000                0.000000      0.000000  \n",
       "25%        0.000000                0.000000     33.300000  \n",
       "50%        0.000000                1.000000     66.700000  \n",
       "75%        8.600000                3.000000    100.000000  \n",
       "max      100.000000              125.000000    100.000000  "
      ]
     },
     "execution_count": 548,
     "metadata": {},
     "output_type": "execute_result"
    }
   ],
   "source": [
    "data_df.describe()"
   ]
  },
  {
   "cell_type": "markdown",
   "metadata": {},
   "source": [
    "The majority of numerical data is proprotional with each other. However, the rating data ranges from 0 to 5, whereas data such as distance ranges from 0 to 161. As a result, the data will have to be scaled. Also there's some non numerical data that will need to be processed"
   ]
  },
  {
   "cell_type": "code",
   "execution_count": 549,
   "metadata": {},
   "outputs": [
    {
     "name": "stdout",
     "output_type": "stream",
     "text": [
      "<class 'str'>\n",
      "<class 'str'>\n"
     ]
    }
   ],
   "source": [
    "print(type(data_df.last_trip_date[0]))\n",
    "print(type(data_df.signup_date[0]))"
   ]
  },
  {
   "cell_type": "code",
   "execution_count": 550,
   "metadata": {},
   "outputs": [],
   "source": [
    "data_df.last_trip_date = data_df.last_trip_date.apply(lambda x: datetime.strptime(x, '%Y-%m-%d'))\n",
    "data_df.signup_date = data_df.signup_date.apply(lambda x: datetime.strptime(x, '%Y-%m-%d'))"
   ]
  },
  {
   "cell_type": "code",
   "execution_count": 551,
   "metadata": {},
   "outputs": [
    {
     "name": "stdout",
     "output_type": "stream",
     "text": [
      "<class 'pandas._libs.tslib.Timestamp'>\n",
      "<class 'pandas._libs.tslib.Timestamp'>\n"
     ]
    }
   ],
   "source": [
    "print(type(data_df.last_trip_date[0]))\n",
    "print(type(data_df.signup_date[0]))"
   ]
  },
  {
   "cell_type": "markdown",
   "metadata": {},
   "source": [
    "Since a user is considered active if they received a ride in the last 30 days, the \"last_trip_date\" column needs to be encoded into a binary response. 1 if a trip was taken in the last 30 days and 0 if the opposite is true. Since this is historical data, we  will have to use the oldest time stamp in the data, and subtract 30 days from that to give the cutoff for 0 or 1 encoding for each user"
   ]
  },
  {
   "cell_type": "markdown",
   "metadata": {},
   "source": [
    "### Target Variable Encoding"
   ]
  },
  {
   "cell_type": "code",
   "execution_count": 552,
   "metadata": {},
   "outputs": [
    {
     "name": "stdout",
     "output_type": "stream",
     "text": [
      "Most Recent Trip Timestamp: 2014-07-01 00:00:00\n",
      "30 Day Retention Cutoff: 2014-06-01 00:00:00\n"
     ]
    }
   ],
   "source": [
    "most_recent_day = data_df.last_trip_date.max()\n",
    "print('Most Recent Trip Timestamp: {}'.format(most_recent_day))\n",
    "cutoff = most_recent_day - timedelta(30)\n",
    "print('30 Day Retention Cutoff: {}'.format(cutoff))"
   ]
  },
  {
   "cell_type": "code",
   "execution_count": 553,
   "metadata": {},
   "outputs": [],
   "source": [
    "def retained(x):\n",
    "    if x <= cutoff:\n",
    "        return 1\n",
    "    else:\n",
    "        return 0"
   ]
  },
  {
   "cell_type": "code",
   "execution_count": 554,
   "metadata": {},
   "outputs": [],
   "source": [
    "data_df['retained'] = data_df.last_trip_date.apply(lambda x: retained(x))"
   ]
  },
  {
   "cell_type": "code",
   "execution_count": 555,
   "metadata": {},
   "outputs": [
    {
     "data": {
      "text/html": [
       "<div>\n",
       "<style scoped>\n",
       "    .dataframe tbody tr th:only-of-type {\n",
       "        vertical-align: middle;\n",
       "    }\n",
       "\n",
       "    .dataframe tbody tr th {\n",
       "        vertical-align: top;\n",
       "    }\n",
       "\n",
       "    .dataframe thead th {\n",
       "        text-align: right;\n",
       "    }\n",
       "</style>\n",
       "<table border=\"1\" class=\"dataframe\">\n",
       "  <thead>\n",
       "    <tr style=\"text-align: right;\">\n",
       "      <th></th>\n",
       "      <th>avg_dist</th>\n",
       "      <th>avg_rating_by_driver</th>\n",
       "      <th>avg_rating_of_driver</th>\n",
       "      <th>avg_surge</th>\n",
       "      <th>city</th>\n",
       "      <th>phone</th>\n",
       "      <th>signup_date</th>\n",
       "      <th>surge_pct</th>\n",
       "      <th>trips_in_first_30_days</th>\n",
       "      <th>ultimate_black_user</th>\n",
       "      <th>weekday_pct</th>\n",
       "      <th>retained</th>\n",
       "    </tr>\n",
       "  </thead>\n",
       "  <tbody>\n",
       "    <tr>\n",
       "      <th>0</th>\n",
       "      <td>3.67</td>\n",
       "      <td>5.0</td>\n",
       "      <td>4.7</td>\n",
       "      <td>1.10</td>\n",
       "      <td>King's Landing</td>\n",
       "      <td>iPhone</td>\n",
       "      <td>2014-01-25</td>\n",
       "      <td>15.4</td>\n",
       "      <td>4</td>\n",
       "      <td>True</td>\n",
       "      <td>46.2</td>\n",
       "      <td>0</td>\n",
       "    </tr>\n",
       "    <tr>\n",
       "      <th>1</th>\n",
       "      <td>8.26</td>\n",
       "      <td>5.0</td>\n",
       "      <td>5.0</td>\n",
       "      <td>1.00</td>\n",
       "      <td>Astapor</td>\n",
       "      <td>Android</td>\n",
       "      <td>2014-01-29</td>\n",
       "      <td>0.0</td>\n",
       "      <td>0</td>\n",
       "      <td>False</td>\n",
       "      <td>50.0</td>\n",
       "      <td>1</td>\n",
       "    </tr>\n",
       "    <tr>\n",
       "      <th>2</th>\n",
       "      <td>0.77</td>\n",
       "      <td>5.0</td>\n",
       "      <td>4.3</td>\n",
       "      <td>1.00</td>\n",
       "      <td>Astapor</td>\n",
       "      <td>iPhone</td>\n",
       "      <td>2014-01-06</td>\n",
       "      <td>0.0</td>\n",
       "      <td>3</td>\n",
       "      <td>False</td>\n",
       "      <td>100.0</td>\n",
       "      <td>1</td>\n",
       "    </tr>\n",
       "    <tr>\n",
       "      <th>3</th>\n",
       "      <td>2.36</td>\n",
       "      <td>4.9</td>\n",
       "      <td>4.6</td>\n",
       "      <td>1.14</td>\n",
       "      <td>King's Landing</td>\n",
       "      <td>iPhone</td>\n",
       "      <td>2014-01-10</td>\n",
       "      <td>20.0</td>\n",
       "      <td>9</td>\n",
       "      <td>True</td>\n",
       "      <td>80.0</td>\n",
       "      <td>0</td>\n",
       "    </tr>\n",
       "    <tr>\n",
       "      <th>4</th>\n",
       "      <td>3.13</td>\n",
       "      <td>4.9</td>\n",
       "      <td>4.4</td>\n",
       "      <td>1.19</td>\n",
       "      <td>Winterfell</td>\n",
       "      <td>Android</td>\n",
       "      <td>2014-01-27</td>\n",
       "      <td>11.8</td>\n",
       "      <td>14</td>\n",
       "      <td>False</td>\n",
       "      <td>82.4</td>\n",
       "      <td>1</td>\n",
       "    </tr>\n",
       "  </tbody>\n",
       "</table>\n",
       "</div>"
      ],
      "text/plain": [
       "   avg_dist  avg_rating_by_driver  avg_rating_of_driver  avg_surge  \\\n",
       "0      3.67                   5.0                   4.7       1.10   \n",
       "1      8.26                   5.0                   5.0       1.00   \n",
       "2      0.77                   5.0                   4.3       1.00   \n",
       "3      2.36                   4.9                   4.6       1.14   \n",
       "4      3.13                   4.9                   4.4       1.19   \n",
       "\n",
       "             city    phone signup_date  surge_pct  trips_in_first_30_days  \\\n",
       "0  King's Landing   iPhone  2014-01-25       15.4                       4   \n",
       "1         Astapor  Android  2014-01-29        0.0                       0   \n",
       "2         Astapor   iPhone  2014-01-06        0.0                       3   \n",
       "3  King's Landing   iPhone  2014-01-10       20.0                       9   \n",
       "4      Winterfell  Android  2014-01-27       11.8                      14   \n",
       "\n",
       "   ultimate_black_user  weekday_pct  retained  \n",
       "0                 True         46.2         0  \n",
       "1                False         50.0         1  \n",
       "2                False        100.0         1  \n",
       "3                 True         80.0         0  \n",
       "4                False         82.4         1  "
      ]
     },
     "execution_count": 555,
     "metadata": {},
     "output_type": "execute_result"
    }
   ],
   "source": [
    "data_df = data_df.drop('last_trip_date', axis = 1)\n",
    "data_df.head()"
   ]
  },
  {
   "cell_type": "markdown",
   "metadata": {},
   "source": [
    "### Percentage of User Retained"
   ]
  },
  {
   "cell_type": "code",
   "execution_count": 535,
   "metadata": {},
   "outputs": [
    {
     "name": "stdout",
     "output_type": "stream",
     "text": [
      "Users Retained: 31690\n",
      "Users Lost: 18310\n",
      "Percentage of Users Retained: 0.6338\n"
     ]
    }
   ],
   "source": [
    "num_of_retained_users = len(data_df[data_df.retained == 1].retained)\n",
    "num_of_lost_users = len(data_df[data_df.retained == 0].retained)\n",
    "print('Users Retained: {}'.format(num_of_retained_users))\n",
    "print('Users Lost: {}'.format(num_of_lost_users))\n",
    "print('Percentage of Users Retained: {}'.format(num_of_retained_users / (num_of_retained_users + num_of_lost_users)))"
   ]
  },
  {
   "cell_type": "markdown",
   "metadata": {},
   "source": [
    "It appears that the service managed to retain 63% of the original users. Let's try to find some bivariate combination that may lend insight into the trends of a user being retained vs a user being lost"
   ]
  },
  {
   "cell_type": "code",
   "execution_count": 569,
   "metadata": {},
   "outputs": [
    {
     "data": {
      "image/png": "[encoded data removed]",
      "text/plain": [
       "<matplotlib.figure.Figure at 0x7f60f3b284e0>"
      ]
     },
     "metadata": {},
     "output_type": "display_data"
    },
    {
     "data": {
      "image/png": "[encoded data removed]",
      "text/plain": [
       "<matplotlib.figure.Figure at 0x7f60f1eee588>"
      ]
     },
     "metadata": {},
     "output_type": "display_data"
    },
    {
     "data": {
      "image/png": "[encoded data removed]",
      "text/plain": [
       "<matplotlib.figure.Figure at 0x7f5f9fb80748>"
      ]
     },
     "metadata": {},
     "output_type": "display_data"
    }
   ],
   "source": [
    "sns.lmplot(x='avg_dist', y='avg_surge', hue = 'retained', data=data_df, fit_reg=False, size =4)\n",
    "plt.show()\n",
    "sns.lmplot(x='avg_rating_by_driver', y='avg_rating_of_driver', hue='retained', data=data_df, fit_reg=False, size=4)\n",
    "plt.show()\n",
    "sns.lmplot(x='avg_dist', y='surge_pct', hue = 'retained', data=data_df, fit_reg=False, size =4)\n",
    "plt.show()"
   ]
  },
  {
   "cell_type": "markdown",
   "metadata": {},
   "source": [
    "In what would be obvious combinations to show trends, nothing is really revealed. There's too many combinations to run through right now so let's continue with the EDA"
   ]
  },
  {
   "cell_type": "markdown",
   "metadata": {},
   "source": [
    "### Explore the data for users missing ratings for drivers and users\n",
    "---------------------------------------------\n",
    "We still need to figure out how to impute the data missing from avg_rating_of_driver (what the users rated the driver) and avg_rating_by_driver (what the drivers rated the user). Let's investigate how many users were retained from each category to get more insight on how we should fill the missing data"
   ]
  },
  {
   "cell_type": "code",
   "execution_count": 16,
   "metadata": {},
   "outputs": [],
   "source": [
    "no_driver_rating = data_df[data_df.avg_rating_of_driver.isnull()]"
   ]
  },
  {
   "cell_type": "code",
   "execution_count": 17,
   "metadata": {},
   "outputs": [
    {
     "data": {
      "image/png": "[encoded data removed]",
      "text/plain": [
       "<matplotlib.figure.Figure at 0x7f60f30ff908>"
      ]
     },
     "metadata": {},
     "output_type": "display_data"
    }
   ],
   "source": [
    "no_driver_rating.groupby('retained')['avg_dist'].count().plot(kind = 'bar', figsize = (8,6))\n",
    "plt.ylabel('Count')\n",
    "plt.title('Determination of Retainment for Users with no Driver Rating Average')\n",
    "plt.show()"
   ]
  },
  {
   "cell_type": "code",
   "execution_count": 18,
   "metadata": {},
   "outputs": [],
   "source": [
    "no_user_rating = data_df[data_df.avg_rating_by_driver.isnull()]"
   ]
  },
  {
   "cell_type": "code",
   "execution_count": 19,
   "metadata": {},
   "outputs": [
    {
     "data": {
      "image/png": "[encoded data removed]",
      "text/plain": [
       "<matplotlib.figure.Figure at 0x7f60ea300518>"
      ]
     },
     "metadata": {},
     "output_type": "display_data"
    }
   ],
   "source": [
    "no_user_rating.groupby('retained')['avg_dist'].count().plot(kind = 'bar', figsize = (8,6))\n",
    "plt.ylabel('Count')\n",
    "plt.title('Determination of Retainment for Users with no User Rating Average')\n",
    "plt.show()"
   ]
  },
  {
   "cell_type": "code",
   "execution_count": 20,
   "metadata": {},
   "outputs": [],
   "source": [
    "no_rating_data = data_df[(data_df.avg_rating_by_driver.isnull()) & (data_df.avg_rating_of_driver.isnull())]"
   ]
  },
  {
   "cell_type": "code",
   "execution_count": 21,
   "metadata": {},
   "outputs": [
    {
     "data": {
      "image/png": "[encoded data removed]",
      "text/plain": [
       "<matplotlib.figure.Figure at 0x7f60f2314470>"
      ]
     },
     "metadata": {},
     "output_type": "display_data"
    }
   ],
   "source": [
    "no_rating_data.groupby('retained')['avg_dist'].count().plot(kind = 'bar',figsize = (8,6))\n",
    "plt.show()"
   ]
  },
  {
   "cell_type": "markdown",
   "metadata": {},
   "source": [
    "For users who don't have an average user rating, users who don't have an average driver rating, and users who are missing both, the majority of them were retained. Because of this, it wouldn't be too aggregious to fill the data with the mean of each respective column. The averages for each column statistic is pretty high already, so no extra weighting should be necessary (such as adding one standard deviation). "
   ]
  },
  {
   "cell_type": "code",
   "execution_count": 22,
   "metadata": {},
   "outputs": [],
   "source": [
    "driver_avg_fill = data_df.avg_rating_of_driver.describe()['mean']\n",
    "user_avg_fill = data_df.avg_rating_by_driver.describe()['mean']"
   ]
  },
  {
   "cell_type": "code",
   "execution_count": 23,
   "metadata": {},
   "outputs": [
    {
     "name": "stdout",
     "output_type": "stream",
     "text": [
      "4.6015592912744685\n",
      "4.778158195947439\n"
     ]
    }
   ],
   "source": [
    "print(driver_avg_fill)\n",
    "print(user_avg_fill)"
   ]
  },
  {
   "cell_type": "code",
   "execution_count": 24,
   "metadata": {},
   "outputs": [
    {
     "name": "stdout",
     "output_type": "stream",
     "text": [
      "<class 'pandas.core.frame.DataFrame'>\n",
      "RangeIndex: 50000 entries, 0 to 49999\n",
      "Data columns (total 12 columns):\n",
      "avg_dist                  50000 non-null float64\n",
      "avg_rating_by_driver      50000 non-null float64\n",
      "avg_rating_of_driver      50000 non-null float64\n",
      "avg_surge                 50000 non-null float64\n",
      "city                      50000 non-null object\n",
      "phone                     49604 non-null object\n",
      "signup_date               50000 non-null datetime64[ns]\n",
      "surge_pct                 50000 non-null float64\n",
      "trips_in_first_30_days    50000 non-null int64\n",
      "ultimate_black_user       50000 non-null bool\n",
      "weekday_pct               50000 non-null float64\n",
      "retained                  50000 non-null int64\n",
      "dtypes: bool(1), datetime64[ns](1), float64(6), int64(2), object(2)\n",
      "memory usage: 4.2+ MB\n"
     ]
    }
   ],
   "source": [
    "data_df.avg_rating_by_driver = data_df.avg_rating_by_driver.fillna(driver_avg_fill)\n",
    "data_df.avg_rating_of_driver = data_df.avg_rating_of_driver.fillna(user_avg_fill)\n",
    "data_df.info()"
   ]
  },
  {
   "cell_type": "markdown",
   "metadata": {},
   "source": [
    "We've already stated earlier that the phone data could probably just be dropped. However, an EDA should be performed on it before any bold moves, such as complete neglect of data, is considered"
   ]
  },
  {
   "cell_type": "code",
   "execution_count": 25,
   "metadata": {},
   "outputs": [
    {
     "data": {
      "image/png": "[encoded data removed]",
      "text/plain": [
       "<matplotlib.figure.Figure at 0x7f60ea314048>"
      ]
     },
     "metadata": {},
     "output_type": "display_data"
    }
   ],
   "source": [
    "phone_eda = data_df.groupby(['phone','retained'])['avg_dist'].count()\n",
    "phone_eda.plot(kind = 'bar', figsize = (8,6), rot = 45)\n",
    "plt.show()"
   ]
  },
  {
   "cell_type": "code",
   "execution_count": 26,
   "metadata": {},
   "outputs": [
    {
     "name": "stdout",
     "output_type": "stream",
     "text": [
      "Percentage of iPhone Users Not Retained: 0.44063385576311376\n",
      "Total number of iPhone Users: 34582\n",
      "Percentage of Android Users Not Retained: 0.19584609239781653\n",
      "Total number of Android Users: 15022\n"
     ]
    }
   ],
   "source": [
    "perc_android_lost = phone_eda[0] / (phone_eda[0] + phone_eda[1])\n",
    "perc_iphone_lost = phone_eda[2] / (phone_eda[2] + phone_eda[3])\n",
    "total_iphone = (phone_eda[2] + phone_eda[3])\n",
    "total_android = (phone_eda[0] + phone_eda[1])\n",
    "print('Percentage of iPhone Users Not Retained: {}'.format(perc_iphone_lost))\n",
    "print('Total number of iPhone Users: {}'.format(total_iphone))\n",
    "print('Percentage of Android Users Not Retained: {}'.format(perc_android_lost))\n",
    "print('Total number of Android Users: {}'.format(total_android))"
   ]
  },
  {
   "cell_type": "markdown",
   "metadata": {},
   "source": [
    "So iPhone users \"lost percentage\" is more than double that of Android users. However when comparing apples to apples, there is more than double iPhone users in total. Therefore there doesn't appear to be anything significant about a user's retainment status and the type of device they used. The phone column will be dropped altogether. While dropping insignifcant columns, there's no data indicating if there were any promotions or specials at specific dates. Therefore, it can probably be safely deduced that there is no correlation between retainment and **signup_date**. Also, the boolean type for **ultimate_black_user** needs to be encoded to 0 or 1 as well"
   ]
  },
  {
   "cell_type": "code",
   "execution_count": 27,
   "metadata": {},
   "outputs": [
    {
     "data": {
      "text/html": [
       "<div>\n",
       "<style scoped>\n",
       "    .dataframe tbody tr th:only-of-type {\n",
       "        vertical-align: middle;\n",
       "    }\n",
       "\n",
       "    .dataframe tbody tr th {\n",
       "        vertical-align: top;\n",
       "    }\n",
       "\n",
       "    .dataframe thead th {\n",
       "        text-align: right;\n",
       "    }\n",
       "</style>\n",
       "<table border=\"1\" class=\"dataframe\">\n",
       "  <thead>\n",
       "    <tr style=\"text-align: right;\">\n",
       "      <th></th>\n",
       "      <th>avg_dist</th>\n",
       "      <th>avg_rating_by_driver</th>\n",
       "      <th>avg_rating_of_driver</th>\n",
       "      <th>avg_surge</th>\n",
       "      <th>city</th>\n",
       "      <th>surge_pct</th>\n",
       "      <th>trips_in_first_30_days</th>\n",
       "      <th>ultimate_black_user</th>\n",
       "      <th>weekday_pct</th>\n",
       "      <th>retained</th>\n",
       "    </tr>\n",
       "  </thead>\n",
       "  <tbody>\n",
       "    <tr>\n",
       "      <th>0</th>\n",
       "      <td>3.67</td>\n",
       "      <td>5.0</td>\n",
       "      <td>4.7</td>\n",
       "      <td>1.10</td>\n",
       "      <td>King's Landing</td>\n",
       "      <td>15.4</td>\n",
       "      <td>4</td>\n",
       "      <td>1</td>\n",
       "      <td>46.2</td>\n",
       "      <td>0</td>\n",
       "    </tr>\n",
       "    <tr>\n",
       "      <th>1</th>\n",
       "      <td>8.26</td>\n",
       "      <td>5.0</td>\n",
       "      <td>5.0</td>\n",
       "      <td>1.00</td>\n",
       "      <td>Astapor</td>\n",
       "      <td>0.0</td>\n",
       "      <td>0</td>\n",
       "      <td>0</td>\n",
       "      <td>50.0</td>\n",
       "      <td>1</td>\n",
       "    </tr>\n",
       "    <tr>\n",
       "      <th>2</th>\n",
       "      <td>0.77</td>\n",
       "      <td>5.0</td>\n",
       "      <td>4.3</td>\n",
       "      <td>1.00</td>\n",
       "      <td>Astapor</td>\n",
       "      <td>0.0</td>\n",
       "      <td>3</td>\n",
       "      <td>0</td>\n",
       "      <td>100.0</td>\n",
       "      <td>1</td>\n",
       "    </tr>\n",
       "    <tr>\n",
       "      <th>3</th>\n",
       "      <td>2.36</td>\n",
       "      <td>4.9</td>\n",
       "      <td>4.6</td>\n",
       "      <td>1.14</td>\n",
       "      <td>King's Landing</td>\n",
       "      <td>20.0</td>\n",
       "      <td>9</td>\n",
       "      <td>1</td>\n",
       "      <td>80.0</td>\n",
       "      <td>0</td>\n",
       "    </tr>\n",
       "    <tr>\n",
       "      <th>4</th>\n",
       "      <td>3.13</td>\n",
       "      <td>4.9</td>\n",
       "      <td>4.4</td>\n",
       "      <td>1.19</td>\n",
       "      <td>Winterfell</td>\n",
       "      <td>11.8</td>\n",
       "      <td>14</td>\n",
       "      <td>0</td>\n",
       "      <td>82.4</td>\n",
       "      <td>1</td>\n",
       "    </tr>\n",
       "  </tbody>\n",
       "</table>\n",
       "</div>"
      ],
      "text/plain": [
       "   avg_dist  avg_rating_by_driver  avg_rating_of_driver  avg_surge  \\\n",
       "0      3.67                   5.0                   4.7       1.10   \n",
       "1      8.26                   5.0                   5.0       1.00   \n",
       "2      0.77                   5.0                   4.3       1.00   \n",
       "3      2.36                   4.9                   4.6       1.14   \n",
       "4      3.13                   4.9                   4.4       1.19   \n",
       "\n",
       "             city  surge_pct  trips_in_first_30_days  ultimate_black_user  \\\n",
       "0  King's Landing       15.4                       4                    1   \n",
       "1         Astapor        0.0                       0                    0   \n",
       "2         Astapor        0.0                       3                    0   \n",
       "3  King's Landing       20.0                       9                    1   \n",
       "4      Winterfell       11.8                      14                    0   \n",
       "\n",
       "   weekday_pct  retained  \n",
       "0         46.2         0  \n",
       "1         50.0         1  \n",
       "2        100.0         1  \n",
       "3         80.0         0  \n",
       "4         82.4         1  "
      ]
     },
     "execution_count": 27,
     "metadata": {},
     "output_type": "execute_result"
    }
   ],
   "source": [
    "#drop phone cateogry\n",
    "data_df = data_df.drop(['phone','signup_date'], axis = 1)\n",
    "#encode ultimate black user 1 = True | 0 = False\n",
    "data_df.ultimate_black_user = data_df.ultimate_black_user.astype('category').cat.codes\n",
    "data_df.head()"
   ]
  },
  {
   "cell_type": "markdown",
   "metadata": {},
   "source": [
    "### Explore the signifcance of the cities\n",
    "---------------------------------------------\n",
    "The last variable we need to handle is the city variable. Just like the phone category, there may be no significance between a user's city and if they were retained or not. Before we can make this assumption, let's explore the data"
   ]
  },
  {
   "cell_type": "code",
   "execution_count": 28,
   "metadata": {},
   "outputs": [
    {
     "data": {
      "image/png": "[encoded data removed]",
      "text/plain": [
       "<matplotlib.figure.Figure at 0x7f6118637a90>"
      ]
     },
     "metadata": {},
     "output_type": "display_data"
    },
    {
     "data": {
      "text/plain": [
       "city            retained\n",
       "Astapor         0            4022\n",
       "                1           12512\n",
       "King's Landing  0            6307\n",
       "                1            3823\n",
       "Winterfell      0            7981\n",
       "                1           15355\n",
       "Name: avg_dist, dtype: int64"
      ]
     },
     "execution_count": 28,
     "metadata": {},
     "output_type": "execute_result"
    }
   ],
   "source": [
    "city_retainment = data_df.groupby(['city','retained'])['avg_dist'].count()\n",
    "city_retainment.plot(kind = 'bar', figsize = (8,6), rot = 45, color = ['r','r','b','b','g','g'], alpha = 0.7)\n",
    "plt.show()\n",
    "city_retainment"
   ]
  },
  {
   "cell_type": "code",
   "execution_count": 29,
   "metadata": {},
   "outputs": [
    {
     "name": "stdout",
     "output_type": "stream",
     "text": [
      "Astapor Lost Percentage: 0.24325632030966493\n",
      "King's Landing Lost Percentage: 0.6226061204343534\n",
      "Winterfell Lost Percentage: 0.34200377099760026\n"
     ]
    }
   ],
   "source": [
    "astapor_lost_perc = city_retainment[0] / (city_retainment[0] + city_retainment[1])\n",
    "print('Astapor Lost Percentage: {}'.format(astapor_lost_perc))\n",
    "kings_lost_perc = city_retainment[2] / (city_retainment[2] + city_retainment[3])\n",
    "print(\"King's Landing Lost Percentage: {}\".format(kings_lost_perc))\n",
    "winter_lost_perc = city_retainment[4] / (city_retainment[4] + city_retainment[5])\n",
    "print('Winterfell Lost Percentage: {}'.format(winter_lost_perc))"
   ]
  },
  {
   "cell_type": "markdown",
   "metadata": {},
   "source": [
    "So there's 3 unique cities contained in the data (Astapor, King's Landing, Winterfell). Astapor represents 16,534 of the users whereas 10,130 and 23,336 are represented by King's Landing and Winterfell respectively. Interestingly enough, being the 2nd most populus of the data, King's Landing has failed to retain over 62% of their users. Further investigation is required to see if anything in the data can lend insights to this occurence"
   ]
  },
  {
   "cell_type": "code",
   "execution_count": 30,
   "metadata": {},
   "outputs": [
    {
     "data": {
      "text/html": [
       "<div>\n",
       "<style scoped>\n",
       "    .dataframe tbody tr th:only-of-type {\n",
       "        vertical-align: middle;\n",
       "    }\n",
       "\n",
       "    .dataframe tbody tr th {\n",
       "        vertical-align: top;\n",
       "    }\n",
       "\n",
       "    .dataframe thead th {\n",
       "        text-align: right;\n",
       "    }\n",
       "</style>\n",
       "<table border=\"1\" class=\"dataframe\">\n",
       "  <thead>\n",
       "    <tr style=\"text-align: right;\">\n",
       "      <th></th>\n",
       "      <th>count</th>\n",
       "      <th>mean</th>\n",
       "      <th>std</th>\n",
       "      <th>min</th>\n",
       "      <th>25%</th>\n",
       "      <th>50%</th>\n",
       "      <th>75%</th>\n",
       "      <th>max</th>\n",
       "    </tr>\n",
       "    <tr>\n",
       "      <th>city</th>\n",
       "      <th></th>\n",
       "      <th></th>\n",
       "      <th></th>\n",
       "      <th></th>\n",
       "      <th></th>\n",
       "      <th></th>\n",
       "      <th></th>\n",
       "      <th></th>\n",
       "    </tr>\n",
       "  </thead>\n",
       "  <tbody>\n",
       "    <tr>\n",
       "      <th>Astapor</th>\n",
       "      <td>16534.0</td>\n",
       "      <td>10.140305</td>\n",
       "      <td>21.947097</td>\n",
       "      <td>0.0</td>\n",
       "      <td>0.0</td>\n",
       "      <td>0.0</td>\n",
       "      <td>10.7</td>\n",
       "      <td>100.0</td>\n",
       "    </tr>\n",
       "    <tr>\n",
       "      <th>King's Landing</th>\n",
       "      <td>10130.0</td>\n",
       "      <td>9.966979</td>\n",
       "      <td>18.832035</td>\n",
       "      <td>0.0</td>\n",
       "      <td>0.0</td>\n",
       "      <td>0.0</td>\n",
       "      <td>14.3</td>\n",
       "      <td>100.0</td>\n",
       "    </tr>\n",
       "    <tr>\n",
       "      <th>Winterfell</th>\n",
       "      <td>23336.0</td>\n",
       "      <td>7.449927</td>\n",
       "      <td>18.832043</td>\n",
       "      <td>0.0</td>\n",
       "      <td>0.0</td>\n",
       "      <td>0.0</td>\n",
       "      <td>4.5</td>\n",
       "      <td>100.0</td>\n",
       "    </tr>\n",
       "  </tbody>\n",
       "</table>\n",
       "</div>"
      ],
      "text/plain": [
       "                  count       mean        std  min  25%  50%   75%    max\n",
       "city                                                                     \n",
       "Astapor         16534.0  10.140305  21.947097  0.0  0.0  0.0  10.7  100.0\n",
       "King's Landing  10130.0   9.966979  18.832035  0.0  0.0  0.0  14.3  100.0\n",
       "Winterfell      23336.0   7.449927  18.832043  0.0  0.0  0.0   4.5  100.0"
      ]
     },
     "execution_count": 30,
     "metadata": {},
     "output_type": "execute_result"
    }
   ],
   "source": [
    "data_df.groupby('city')['surge_pct'].describe()"
   ]
  },
  {
   "cell_type": "markdown",
   "metadata": {},
   "source": [
    "On average, the people in King's Landing take a ride that is surging approximately 10% of the time. This is the second highest average of the 3. However, their 75 percentile is at 14.3, which is almost 4% more than Astapor and 10% more than Winterfell. So it can be deduced that the prices seem to surge more often in King's Landing than anywhere else. Unfortunately the data can't confirm this, and there doesn't seem to be any metric in the data that can give concrete evidence for the 62% no retainment percentage. But there does seem to be signifigance between retainment and city, so that data column will be retained. It also needs to be encoded."
   ]
  },
  {
   "cell_type": "code",
   "execution_count": 31,
   "metadata": {},
   "outputs": [],
   "source": [
    "data_df.city = data_df.city.astype('category').cat.codes"
   ]
  },
  {
   "cell_type": "markdown",
   "metadata": {},
   "source": [
    "* Astapor = 0\n",
    "* King's Landing = 1\n",
    "* Winterfell = 2"
   ]
  },
  {
   "cell_type": "markdown",
   "metadata": {},
   "source": [
    "## Prepared Data"
   ]
  },
  {
   "cell_type": "code",
   "execution_count": 32,
   "metadata": {},
   "outputs": [
    {
     "data": {
      "text/html": [
       "<div>\n",
       "<style scoped>\n",
       "    .dataframe tbody tr th:only-of-type {\n",
       "        vertical-align: middle;\n",
       "    }\n",
       "\n",
       "    .dataframe tbody tr th {\n",
       "        vertical-align: top;\n",
       "    }\n",
       "\n",
       "    .dataframe thead th {\n",
       "        text-align: right;\n",
       "    }\n",
       "</style>\n",
       "<table border=\"1\" class=\"dataframe\">\n",
       "  <thead>\n",
       "    <tr style=\"text-align: right;\">\n",
       "      <th></th>\n",
       "      <th>avg_dist</th>\n",
       "      <th>avg_rating_by_driver</th>\n",
       "      <th>avg_rating_of_driver</th>\n",
       "      <th>avg_surge</th>\n",
       "      <th>city</th>\n",
       "      <th>surge_pct</th>\n",
       "      <th>trips_in_first_30_days</th>\n",
       "      <th>ultimate_black_user</th>\n",
       "      <th>weekday_pct</th>\n",
       "      <th>retained</th>\n",
       "    </tr>\n",
       "  </thead>\n",
       "  <tbody>\n",
       "    <tr>\n",
       "      <th>0</th>\n",
       "      <td>3.67</td>\n",
       "      <td>5.0</td>\n",
       "      <td>4.7</td>\n",
       "      <td>1.10</td>\n",
       "      <td>1</td>\n",
       "      <td>15.4</td>\n",
       "      <td>4</td>\n",
       "      <td>1</td>\n",
       "      <td>46.2</td>\n",
       "      <td>0</td>\n",
       "    </tr>\n",
       "    <tr>\n",
       "      <th>1</th>\n",
       "      <td>8.26</td>\n",
       "      <td>5.0</td>\n",
       "      <td>5.0</td>\n",
       "      <td>1.00</td>\n",
       "      <td>0</td>\n",
       "      <td>0.0</td>\n",
       "      <td>0</td>\n",
       "      <td>0</td>\n",
       "      <td>50.0</td>\n",
       "      <td>1</td>\n",
       "    </tr>\n",
       "    <tr>\n",
       "      <th>2</th>\n",
       "      <td>0.77</td>\n",
       "      <td>5.0</td>\n",
       "      <td>4.3</td>\n",
       "      <td>1.00</td>\n",
       "      <td>0</td>\n",
       "      <td>0.0</td>\n",
       "      <td>3</td>\n",
       "      <td>0</td>\n",
       "      <td>100.0</td>\n",
       "      <td>1</td>\n",
       "    </tr>\n",
       "    <tr>\n",
       "      <th>3</th>\n",
       "      <td>2.36</td>\n",
       "      <td>4.9</td>\n",
       "      <td>4.6</td>\n",
       "      <td>1.14</td>\n",
       "      <td>1</td>\n",
       "      <td>20.0</td>\n",
       "      <td>9</td>\n",
       "      <td>1</td>\n",
       "      <td>80.0</td>\n",
       "      <td>0</td>\n",
       "    </tr>\n",
       "    <tr>\n",
       "      <th>4</th>\n",
       "      <td>3.13</td>\n",
       "      <td>4.9</td>\n",
       "      <td>4.4</td>\n",
       "      <td>1.19</td>\n",
       "      <td>2</td>\n",
       "      <td>11.8</td>\n",
       "      <td>14</td>\n",
       "      <td>0</td>\n",
       "      <td>82.4</td>\n",
       "      <td>1</td>\n",
       "    </tr>\n",
       "  </tbody>\n",
       "</table>\n",
       "</div>"
      ],
      "text/plain": [
       "   avg_dist  avg_rating_by_driver  avg_rating_of_driver  avg_surge  city  \\\n",
       "0      3.67                   5.0                   4.7       1.10     1   \n",
       "1      8.26                   5.0                   5.0       1.00     0   \n",
       "2      0.77                   5.0                   4.3       1.00     0   \n",
       "3      2.36                   4.9                   4.6       1.14     1   \n",
       "4      3.13                   4.9                   4.4       1.19     2   \n",
       "\n",
       "   surge_pct  trips_in_first_30_days  ultimate_black_user  weekday_pct  \\\n",
       "0       15.4                       4                    1         46.2   \n",
       "1        0.0                       0                    0         50.0   \n",
       "2        0.0                       3                    0        100.0   \n",
       "3       20.0                       9                    1         80.0   \n",
       "4       11.8                      14                    0         82.4   \n",
       "\n",
       "   retained  \n",
       "0         0  \n",
       "1         1  \n",
       "2         1  \n",
       "3         0  \n",
       "4         1  "
      ]
     },
     "execution_count": 32,
     "metadata": {},
     "output_type": "execute_result"
    }
   ],
   "source": [
    "data_df.head()"
   ]
  },
  {
   "cell_type": "markdown",
   "metadata": {},
   "source": [
    "From a brief EDA on the data, 63% of the users were retained, but there's clearly some problems going on in King's Landing. They lost 62% of the users that signed up in their city. With no predictive model prepared, I would recommend further investigation into the problems with this city"
   ]
  },
  {
   "cell_type": "code",
   "execution_count": 33,
   "metadata": {},
   "outputs": [],
   "source": [
    "x_data = data_df.drop('retained', axis = 1)\n",
    "y_data = data_df.retained"
   ]
  },
  {
   "cell_type": "markdown",
   "metadata": {},
   "source": [
    " "
   ]
  },
  {
   "cell_type": "markdown",
   "metadata": {},
   "source": [
    " "
   ]
  },
  {
   "cell_type": "markdown",
   "metadata": {},
   "source": [
    "# Predictive Models"
   ]
  },
  {
   "cell_type": "markdown",
   "metadata": {},
   "source": [
    "There's 50,000 observations and we've created 9 unique features. With this amount of data, it's large enough for complex models such as Deep Neural Nets, and small enough for relatively simple models. We will try a few different models and compare performance. Due to the assumed extreme randomness in the data, perhaps only a DNN can learn the complexities contained within. That's where we'll start"
   ]
  },
  {
   "cell_type": "markdown",
   "metadata": {},
   "source": [
    "## Tensorflow Model"
   ]
  },
  {
   "cell_type": "code",
   "execution_count": 34,
   "metadata": {},
   "outputs": [],
   "source": [
    "from sklearn.model_selection import train_test_split"
   ]
  },
  {
   "cell_type": "markdown",
   "metadata": {},
   "source": [
    "#### Train Test Split"
   ]
  },
  {
   "cell_type": "code",
   "execution_count": 35,
   "metadata": {},
   "outputs": [],
   "source": [
    "X_train, X_test, y_train, y_test = train_test_split(x_data, y_data, test_size=0.3, random_state=42)"
   ]
  },
  {
   "cell_type": "code",
   "execution_count": 305,
   "metadata": {},
   "outputs": [
    {
     "name": "stdout",
     "output_type": "stream",
     "text": [
      "(35000, 9)\n",
      "(15000, 9)\n",
      "(35000,)\n",
      "(15000,)\n"
     ]
    }
   ],
   "source": [
    "print(X_train.shape)\n",
    "print(X_test.shape)\n",
    "print(y_train.shape)\n",
    "print(y_test.shape)"
   ]
  },
  {
   "cell_type": "code",
   "execution_count": 36,
   "metadata": {},
   "outputs": [
    {
     "data": {
      "text/plain": [
       "Index(['avg_dist', 'avg_rating_by_driver', 'avg_rating_of_driver', 'avg_surge',\n",
       "       'city', 'surge_pct', 'trips_in_first_30_days', 'ultimate_black_user',\n",
       "       'weekday_pct', 'retained'],\n",
       "      dtype='object')"
      ]
     },
     "execution_count": 36,
     "metadata": {},
     "output_type": "execute_result"
    }
   ],
   "source": [
    "data_df.columns"
   ]
  },
  {
   "cell_type": "code",
   "execution_count": 536,
   "metadata": {},
   "outputs": [],
   "source": [
    "import tensorflow as tf"
   ]
  },
  {
   "cell_type": "markdown",
   "metadata": {},
   "source": [
    "#### Create Feature Columns From Pandas"
   ]
  },
  {
   "cell_type": "code",
   "execution_count": 38,
   "metadata": {},
   "outputs": [],
   "source": [
    "avg_dist = tf.feature_column.numeric_column('avg_dist')\n",
    "avg_rating_by_driver = tf.feature_column.numeric_column('avg_rating_by_driver')\n",
    "avg_rating_of_driver = tf.feature_column.numeric_column('avg_rating_of_driver')\n",
    "avg_surge = tf.feature_column.numeric_column('avg_surge')\n",
    "city = tf.feature_column.numeric_column('city')\n",
    "surge_pct = tf.feature_column.numeric_column('surge_pct')\n",
    "trips_in_first_30_days = tf.feature_column.numeric_column('trips_in_first_30_days')\n",
    "ultimate_black_user = tf.feature_column.numeric_column('ultimate_black_user')\n",
    "weekday_pct = tf.feature_column.numeric_column('weekday_pct')"
   ]
  },
  {
   "cell_type": "code",
   "execution_count": 39,
   "metadata": {},
   "outputs": [],
   "source": [
    "feat_cols = [avg_dist, \n",
    "             avg_rating_by_driver,\n",
    "             avg_rating_of_driver,\n",
    "             avg_surge,city,\n",
    "             surge_pct,\n",
    "             trips_in_first_30_days,\n",
    "             ultimate_black_user,\n",
    "             weekday_pct]"
   ]
  },
  {
   "cell_type": "markdown",
   "metadata": {},
   "source": [
    "#### Create Input Function"
   ]
  },
  {
   "cell_type": "code",
   "execution_count": 40,
   "metadata": {},
   "outputs": [],
   "source": [
    "input_func = tf.estimator.inputs.pandas_input_fn(x = X_train, \n",
    "                                                 y = y_train, \n",
    "                                                 batch_size  = 100, \n",
    "                                                 num_epochs = None, \n",
    "                                                 shuffle = True)"
   ]
  },
  {
   "cell_type": "markdown",
   "metadata": {},
   "source": [
    "#### Crate Deep Neural Network Model"
   ]
  },
  {
   "cell_type": "code",
   "execution_count": 302,
   "metadata": {},
   "outputs": [
    {
     "name": "stdout",
     "output_type": "stream",
     "text": [
      "INFO:tensorflow:Using default config.\n",
      "WARNING:tensorflow:Using temporary folder as model directory: /tmp/tmpzyejyz6e\n",
      "INFO:tensorflow:Using config: {'_model_dir': '/tmp/tmpzyejyz6e', '_tf_random_seed': None, '_save_summary_steps': 100, '_save_checkpoints_steps': None, '_save_checkpoints_secs': 600, '_session_config': None, '_keep_checkpoint_max': 5, '_keep_checkpoint_every_n_hours': 10000, '_log_step_count_steps': 100, '_train_distribute': None, '_service': None, '_cluster_spec': <tensorflow.python.training.server_lib.ClusterSpec object at 0x7f609d1390f0>, '_task_type': 'worker', '_task_id': 0, '_global_id_in_cluster': 0, '_master': '', '_evaluation_master': '', '_is_chief': True, '_num_ps_replicas': 0, '_num_worker_replicas': 1}\n"
     ]
    }
   ],
   "source": [
    "model = tf.estimator.DNNLinearCombinedClassifier(dnn_feature_columns = feat_cols, \n",
    "                                                 dnn_hidden_units=[50,40,30,20,10,1],\n",
    "                                                 dnn_optimizer='Adagrad')"
   ]
  },
  {
   "cell_type": "markdown",
   "metadata": {},
   "source": [
    "#### Train Model With The Input Function"
   ]
  },
  {
   "cell_type": "code",
   "execution_count": 303,
   "metadata": {},
   "outputs": [
    {
     "name": "stdout",
     "output_type": "stream",
     "text": [
      "INFO:tensorflow:Calling model_fn.\n",
      "INFO:tensorflow:Done calling model_fn.\n",
      "INFO:tensorflow:Create CheckpointSaverHook.\n",
      "INFO:tensorflow:Graph was finalized.\n",
      "INFO:tensorflow:Running local_init_op.\n",
      "INFO:tensorflow:Done running local_init_op.\n",
      "INFO:tensorflow:Saving checkpoints for 1 into /tmp/tmpzyejyz6e/model.ckpt.\n",
      "INFO:tensorflow:loss = 83.905365, step = 1\n",
      "INFO:tensorflow:global_step/sec: 368.253\n",
      "INFO:tensorflow:loss = 64.52566, step = 101 (0.274 sec)\n",
      "INFO:tensorflow:global_step/sec: 379.753\n",
      "INFO:tensorflow:loss = 66.004684, step = 201 (0.262 sec)\n",
      "INFO:tensorflow:global_step/sec: 404.8\n",
      "INFO:tensorflow:loss = 63.164886, step = 301 (0.247 sec)\n",
      "INFO:tensorflow:global_step/sec: 384.581\n",
      "INFO:tensorflow:loss = 66.5418, step = 401 (0.261 sec)\n",
      "INFO:tensorflow:global_step/sec: 448.508\n",
      "INFO:tensorflow:loss = 66.13971, step = 501 (0.223 sec)\n",
      "INFO:tensorflow:global_step/sec: 478.349\n",
      "INFO:tensorflow:loss = 65.38837, step = 601 (0.209 sec)\n",
      "INFO:tensorflow:global_step/sec: 524.111\n",
      "INFO:tensorflow:loss = 68.57052, step = 701 (0.191 sec)\n",
      "INFO:tensorflow:global_step/sec: 506.543\n",
      "INFO:tensorflow:loss = 67.290504, step = 801 (0.197 sec)\n",
      "INFO:tensorflow:global_step/sec: 531.937\n",
      "INFO:tensorflow:loss = 66.09302, step = 901 (0.187 sec)\n",
      "INFO:tensorflow:global_step/sec: 512.412\n",
      "INFO:tensorflow:loss = 63.257298, step = 1001 (0.197 sec)\n",
      "INFO:tensorflow:global_step/sec: 517.771\n",
      "INFO:tensorflow:loss = 65.244736, step = 1101 (0.193 sec)\n",
      "INFO:tensorflow:global_step/sec: 544.18\n",
      "INFO:tensorflow:loss = 61.653976, step = 1201 (0.184 sec)\n",
      "INFO:tensorflow:global_step/sec: 432.101\n",
      "INFO:tensorflow:loss = 63.135082, step = 1301 (0.232 sec)\n",
      "INFO:tensorflow:global_step/sec: 535.449\n",
      "INFO:tensorflow:loss = 58.138866, step = 1401 (0.186 sec)\n",
      "INFO:tensorflow:global_step/sec: 439.738\n",
      "INFO:tensorflow:loss = 53.623524, step = 1501 (0.229 sec)\n",
      "INFO:tensorflow:global_step/sec: 444.398\n",
      "INFO:tensorflow:loss = 55.13969, step = 1601 (0.223 sec)\n",
      "INFO:tensorflow:global_step/sec: 445.442\n",
      "INFO:tensorflow:loss = 64.70214, step = 1701 (0.226 sec)\n",
      "INFO:tensorflow:global_step/sec: 464.159\n",
      "INFO:tensorflow:loss = 62.974453, step = 1801 (0.215 sec)\n",
      "INFO:tensorflow:global_step/sec: 512.953\n",
      "INFO:tensorflow:loss = 52.48418, step = 1901 (0.195 sec)\n",
      "INFO:tensorflow:global_step/sec: 521.109\n",
      "INFO:tensorflow:loss = 59.28015, step = 2001 (0.192 sec)\n",
      "INFO:tensorflow:global_step/sec: 531.256\n",
      "INFO:tensorflow:loss = 57.79569, step = 2101 (0.187 sec)\n",
      "INFO:tensorflow:global_step/sec: 516.893\n",
      "INFO:tensorflow:loss = 55.783447, step = 2201 (0.194 sec)\n",
      "INFO:tensorflow:global_step/sec: 541.442\n",
      "INFO:tensorflow:loss = 60.26753, step = 2301 (0.184 sec)\n",
      "INFO:tensorflow:global_step/sec: 548.754\n",
      "INFO:tensorflow:loss = 51.330326, step = 2401 (0.183 sec)\n",
      "INFO:tensorflow:global_step/sec: 536.852\n",
      "INFO:tensorflow:loss = 60.66295, step = 2501 (0.185 sec)\n",
      "INFO:tensorflow:global_step/sec: 510.342\n",
      "INFO:tensorflow:loss = 62.475845, step = 2601 (0.197 sec)\n",
      "INFO:tensorflow:global_step/sec: 520.629\n",
      "INFO:tensorflow:loss = 58.786312, step = 2701 (0.192 sec)\n",
      "INFO:tensorflow:global_step/sec: 507.186\n",
      "INFO:tensorflow:loss = 68.84648, step = 2801 (0.197 sec)\n",
      "INFO:tensorflow:global_step/sec: 551.163\n",
      "INFO:tensorflow:loss = 64.28021, step = 2901 (0.181 sec)\n",
      "INFO:tensorflow:global_step/sec: 472.914\n",
      "INFO:tensorflow:loss = 53.796143, step = 3001 (0.212 sec)\n",
      "INFO:tensorflow:global_step/sec: 539.604\n",
      "INFO:tensorflow:loss = 49.791496, step = 3101 (0.185 sec)\n",
      "INFO:tensorflow:global_step/sec: 544.62\n",
      "INFO:tensorflow:loss = 53.129246, step = 3201 (0.183 sec)\n",
      "INFO:tensorflow:global_step/sec: 530.194\n",
      "INFO:tensorflow:loss = 57.40986, step = 3301 (0.189 sec)\n",
      "INFO:tensorflow:global_step/sec: 500.484\n",
      "INFO:tensorflow:loss = 62.573235, step = 3401 (0.200 sec)\n",
      "INFO:tensorflow:global_step/sec: 517.946\n",
      "INFO:tensorflow:loss = 60.319607, step = 3501 (0.192 sec)\n",
      "INFO:tensorflow:global_step/sec: 569.833\n",
      "INFO:tensorflow:loss = 56.756794, step = 3601 (0.176 sec)\n",
      "INFO:tensorflow:global_step/sec: 494.994\n",
      "INFO:tensorflow:loss = 60.418118, step = 3701 (0.202 sec)\n",
      "INFO:tensorflow:global_step/sec: 518.342\n",
      "INFO:tensorflow:loss = 56.138676, step = 3801 (0.193 sec)\n",
      "INFO:tensorflow:global_step/sec: 515.079\n",
      "INFO:tensorflow:loss = 62.3669, step = 3901 (0.194 sec)\n",
      "INFO:tensorflow:global_step/sec: 558.619\n",
      "INFO:tensorflow:loss = 56.55677, step = 4001 (0.179 sec)\n",
      "INFO:tensorflow:global_step/sec: 539.819\n",
      "INFO:tensorflow:loss = 65.44641, step = 4101 (0.185 sec)\n",
      "INFO:tensorflow:global_step/sec: 513.647\n",
      "INFO:tensorflow:loss = 56.628212, step = 4201 (0.195 sec)\n",
      "INFO:tensorflow:global_step/sec: 493.59\n",
      "INFO:tensorflow:loss = 65.68558, step = 4301 (0.202 sec)\n",
      "INFO:tensorflow:global_step/sec: 518.704\n",
      "INFO:tensorflow:loss = 59.1231, step = 4401 (0.194 sec)\n",
      "INFO:tensorflow:global_step/sec: 441.373\n",
      "INFO:tensorflow:loss = 56.379776, step = 4501 (0.226 sec)\n",
      "INFO:tensorflow:global_step/sec: 426.929\n",
      "INFO:tensorflow:loss = 55.772724, step = 4601 (0.234 sec)\n",
      "INFO:tensorflow:global_step/sec: 475.752\n",
      "INFO:tensorflow:loss = 53.885567, step = 4701 (0.212 sec)\n",
      "INFO:tensorflow:global_step/sec: 480.241\n",
      "INFO:tensorflow:loss = 69.0888, step = 4801 (0.208 sec)\n",
      "INFO:tensorflow:global_step/sec: 533.966\n",
      "INFO:tensorflow:loss = 53.72676, step = 4901 (0.187 sec)\n",
      "INFO:tensorflow:global_step/sec: 431.624\n",
      "INFO:tensorflow:loss = 63.194695, step = 5001 (0.234 sec)\n",
      "INFO:tensorflow:global_step/sec: 511.191\n",
      "INFO:tensorflow:loss = 54.311462, step = 5101 (0.193 sec)\n",
      "INFO:tensorflow:global_step/sec: 583.083\n",
      "INFO:tensorflow:loss = 60.303276, step = 5201 (0.171 sec)\n",
      "INFO:tensorflow:global_step/sec: 532.207\n",
      "INFO:tensorflow:loss = 61.908455, step = 5301 (0.187 sec)\n",
      "INFO:tensorflow:global_step/sec: 602.358\n",
      "INFO:tensorflow:loss = 55.216965, step = 5401 (0.167 sec)\n",
      "INFO:tensorflow:global_step/sec: 589.297\n",
      "INFO:tensorflow:loss = 63.10328, step = 5501 (0.169 sec)\n",
      "INFO:tensorflow:global_step/sec: 590.23\n",
      "INFO:tensorflow:loss = 55.0981, step = 5601 (0.169 sec)\n",
      "INFO:tensorflow:global_step/sec: 596.149\n",
      "INFO:tensorflow:loss = 57.351727, step = 5701 (0.168 sec)\n",
      "INFO:tensorflow:global_step/sec: 606.907\n",
      "INFO:tensorflow:loss = 53.120552, step = 5801 (0.165 sec)\n",
      "INFO:tensorflow:global_step/sec: 567.526\n",
      "INFO:tensorflow:loss = 55.700848, step = 5901 (0.176 sec)\n",
      "INFO:tensorflow:global_step/sec: 577.277\n",
      "INFO:tensorflow:loss = 62.56939, step = 6001 (0.172 sec)\n",
      "INFO:tensorflow:global_step/sec: 576.583\n",
      "INFO:tensorflow:loss = 54.797718, step = 6101 (0.174 sec)\n",
      "INFO:tensorflow:global_step/sec: 594.898\n",
      "INFO:tensorflow:loss = 57.606808, step = 6201 (0.168 sec)\n",
      "INFO:tensorflow:global_step/sec: 578.07\n",
      "INFO:tensorflow:loss = 65.54633, step = 6301 (0.173 sec)\n",
      "INFO:tensorflow:global_step/sec: 575.541\n",
      "INFO:tensorflow:loss = 57.723114, step = 6401 (0.174 sec)\n",
      "INFO:tensorflow:global_step/sec: 594.116\n",
      "INFO:tensorflow:loss = 51.658318, step = 6501 (0.167 sec)\n",
      "INFO:tensorflow:global_step/sec: 602.919\n",
      "INFO:tensorflow:loss = 55.29503, step = 6601 (0.167 sec)\n",
      "INFO:tensorflow:global_step/sec: 555.613\n",
      "INFO:tensorflow:loss = 59.108273, step = 6701 (0.180 sec)\n",
      "INFO:tensorflow:global_step/sec: 543.386\n",
      "INFO:tensorflow:loss = 56.185875, step = 6801 (0.184 sec)\n",
      "INFO:tensorflow:global_step/sec: 587.668\n",
      "INFO:tensorflow:loss = 62.004166, step = 6901 (0.170 sec)\n",
      "INFO:tensorflow:global_step/sec: 569.556\n",
      "INFO:tensorflow:loss = 62.99232, step = 7001 (0.176 sec)\n",
      "INFO:tensorflow:global_step/sec: 605.011\n",
      "INFO:tensorflow:loss = 63.234615, step = 7101 (0.165 sec)\n",
      "INFO:tensorflow:global_step/sec: 605.161\n",
      "INFO:tensorflow:loss = 59.648853, step = 7201 (0.165 sec)\n",
      "INFO:tensorflow:global_step/sec: 591.622\n",
      "INFO:tensorflow:loss = 57.62721, step = 7301 (0.169 sec)\n",
      "INFO:tensorflow:global_step/sec: 599.554\n",
      "INFO:tensorflow:loss = 57.146843, step = 7401 (0.166 sec)\n",
      "INFO:tensorflow:global_step/sec: 531.926\n",
      "INFO:tensorflow:loss = 60.31295, step = 7501 (0.188 sec)\n",
      "INFO:tensorflow:global_step/sec: 566.379\n",
      "INFO:tensorflow:loss = 55.55712, step = 7601 (0.177 sec)\n",
      "INFO:tensorflow:global_step/sec: 569.079\n",
      "INFO:tensorflow:loss = 60.023113, step = 7701 (0.176 sec)\n",
      "INFO:tensorflow:global_step/sec: 579.216\n",
      "INFO:tensorflow:loss = 53.80208, step = 7801 (0.173 sec)\n",
      "INFO:tensorflow:global_step/sec: 559.41\n",
      "INFO:tensorflow:loss = 51.764206, step = 7901 (0.178 sec)\n",
      "INFO:tensorflow:global_step/sec: 506.693\n",
      "INFO:tensorflow:loss = 55.365044, step = 8001 (0.199 sec)\n",
      "INFO:tensorflow:global_step/sec: 577.517\n",
      "INFO:tensorflow:loss = 61.590492, step = 8101 (0.172 sec)\n",
      "INFO:tensorflow:global_step/sec: 620.732\n",
      "INFO:tensorflow:loss = 59.78667, step = 8201 (0.162 sec)\n",
      "INFO:tensorflow:global_step/sec: 585.508\n",
      "INFO:tensorflow:loss = 56.224045, step = 8301 (0.171 sec)\n",
      "INFO:tensorflow:global_step/sec: 609.977\n",
      "INFO:tensorflow:loss = 53.937714, step = 8401 (0.163 sec)\n",
      "INFO:tensorflow:global_step/sec: 625.653\n",
      "INFO:tensorflow:loss = 58.326523, step = 8501 (0.160 sec)\n",
      "INFO:tensorflow:global_step/sec: 587.597\n",
      "INFO:tensorflow:loss = 51.346516, step = 8601 (0.170 sec)\n",
      "INFO:tensorflow:global_step/sec: 549.565\n",
      "INFO:tensorflow:loss = 51.03762, step = 8701 (0.182 sec)\n",
      "INFO:tensorflow:global_step/sec: 552.403\n",
      "INFO:tensorflow:loss = 58.655945, step = 8801 (0.181 sec)\n",
      "INFO:tensorflow:global_step/sec: 536.648\n",
      "INFO:tensorflow:loss = 50.9779, step = 8901 (0.186 sec)\n",
      "INFO:tensorflow:global_step/sec: 547.059\n",
      "INFO:tensorflow:loss = 52.188835, step = 9001 (0.183 sec)\n",
      "INFO:tensorflow:global_step/sec: 605.252\n",
      "INFO:tensorflow:loss = 55.879646, step = 9101 (0.165 sec)\n",
      "INFO:tensorflow:global_step/sec: 602.197\n",
      "INFO:tensorflow:loss = 53.962627, step = 9201 (0.166 sec)\n",
      "INFO:tensorflow:global_step/sec: 599.314\n",
      "INFO:tensorflow:loss = 56.87899, step = 9301 (0.167 sec)\n",
      "INFO:tensorflow:global_step/sec: 591.751\n",
      "INFO:tensorflow:loss = 57.340958, step = 9401 (0.169 sec)\n",
      "INFO:tensorflow:global_step/sec: 587.992\n",
      "INFO:tensorflow:loss = 60.837814, step = 9501 (0.170 sec)\n",
      "INFO:tensorflow:global_step/sec: 606.439\n",
      "INFO:tensorflow:loss = 52.349014, step = 9601 (0.165 sec)\n",
      "INFO:tensorflow:global_step/sec: 597.234\n",
      "INFO:tensorflow:loss = 57.74278, step = 9701 (0.168 sec)\n",
      "INFO:tensorflow:global_step/sec: 517.371\n",
      "INFO:tensorflow:loss = 53.955833, step = 9801 (0.193 sec)\n",
      "INFO:tensorflow:global_step/sec: 605.112\n",
      "INFO:tensorflow:loss = 53.21565, step = 9901 (0.165 sec)\n",
      "INFO:tensorflow:Saving checkpoints for 10000 into /tmp/tmpzyejyz6e/model.ckpt.\n",
      "INFO:tensorflow:Loss for final step: 59.46639.\n"
     ]
    },
    {
     "data": {
      "text/plain": [
       "<tensorflow.python.estimator.canned.dnn_linear_combined.DNNLinearCombinedClassifier at 0x7f609d139908>"
      ]
     },
     "execution_count": 303,
     "metadata": {},
     "output_type": "execute_result"
    }
   ],
   "source": [
    "model.train(input_fn=input_func, steps=10000)"
   ]
  },
  {
   "cell_type": "markdown",
   "metadata": {},
   "source": [
    "#### Create Prediction and Evaluation Input Functions"
   ]
  },
  {
   "cell_type": "code",
   "execution_count": 306,
   "metadata": {},
   "outputs": [],
   "source": [
    "pred_fn = tf.estimator.inputs.pandas_input_fn(x=X_test, batch_size=len(X_test), shuffle = False)"
   ]
  },
  {
   "cell_type": "code",
   "execution_count": 307,
   "metadata": {},
   "outputs": [],
   "source": [
    "train_eval_fn = tf.estimator.inputs.pandas_input_fn(x=X_train, y=y_train, batch_size=len(X_train), shuffle=False)"
   ]
  },
  {
   "cell_type": "code",
   "execution_count": 308,
   "metadata": {},
   "outputs": [],
   "source": [
    "test_eval_fn = tf.estimator.inputs.pandas_input_fn(x=X_test,y=y_test, batch_size=len(X_test), shuffle = False)"
   ]
  },
  {
   "cell_type": "markdown",
   "metadata": {},
   "source": [
    "#### Train Set Evaluation"
   ]
  },
  {
   "cell_type": "code",
   "execution_count": 309,
   "metadata": {},
   "outputs": [
    {
     "name": "stdout",
     "output_type": "stream",
     "text": [
      "INFO:tensorflow:Calling model_fn.\n",
      "WARNING:tensorflow:Trapezoidal rule is known to produce incorrect PR-AUCs; please switch to \"careful_interpolation\" instead.\n",
      "WARNING:tensorflow:Trapezoidal rule is known to produce incorrect PR-AUCs; please switch to \"careful_interpolation\" instead.\n",
      "INFO:tensorflow:Done calling model_fn.\n",
      "INFO:tensorflow:Starting evaluation at 2018-07-13-17:00:43\n",
      "INFO:tensorflow:Graph was finalized.\n",
      "INFO:tensorflow:Restoring parameters from /tmp/tmpzyejyz6e/model.ckpt-10000\n",
      "INFO:tensorflow:Running local_init_op.\n",
      "INFO:tensorflow:Done running local_init_op.\n",
      "INFO:tensorflow:Finished evaluation at 2018-07-13-17:00:44\n",
      "INFO:tensorflow:Saving dict for global step 10000: accuracy = 0.72634286, accuracy_baseline = 0.63334286, auc = 0.76336, auc_precision_recall = 0.8319507, average_loss = 0.5699844, global_step = 10000, label/mean = 0.63334286, loss = 19949.453, precision = 0.73305196, prediction/mean = 0.68047523, recall = 0.8931745\n"
     ]
    },
    {
     "data": {
      "text/plain": [
       "{'accuracy': 0.72634286,\n",
       " 'accuracy_baseline': 0.63334286,\n",
       " 'auc': 0.76336,\n",
       " 'auc_precision_recall': 0.8319507,\n",
       " 'average_loss': 0.5699844,\n",
       " 'global_step': 10000,\n",
       " 'label/mean': 0.63334286,\n",
       " 'loss': 19949.453,\n",
       " 'precision': 0.73305196,\n",
       " 'prediction/mean': 0.68047523,\n",
       " 'recall': 0.8931745}"
      ]
     },
     "execution_count": 309,
     "metadata": {},
     "output_type": "execute_result"
    }
   ],
   "source": [
    "train_eval = model.evaluate(input_fn = train_eval_fn)\n",
    "train_eval"
   ]
  },
  {
   "cell_type": "markdown",
   "metadata": {},
   "source": [
    "#### Test Set Evaluation"
   ]
  },
  {
   "cell_type": "code",
   "execution_count": 310,
   "metadata": {},
   "outputs": [
    {
     "name": "stdout",
     "output_type": "stream",
     "text": [
      "INFO:tensorflow:Calling model_fn.\n",
      "WARNING:tensorflow:Trapezoidal rule is known to produce incorrect PR-AUCs; please switch to \"careful_interpolation\" instead.\n",
      "WARNING:tensorflow:Trapezoidal rule is known to produce incorrect PR-AUCs; please switch to \"careful_interpolation\" instead.\n",
      "INFO:tensorflow:Done calling model_fn.\n",
      "INFO:tensorflow:Starting evaluation at 2018-07-13-17:00:48\n",
      "INFO:tensorflow:Graph was finalized.\n",
      "INFO:tensorflow:Restoring parameters from /tmp/tmpzyejyz6e/model.ckpt-10000\n",
      "INFO:tensorflow:Running local_init_op.\n",
      "INFO:tensorflow:Done running local_init_op.\n",
      "INFO:tensorflow:Finished evaluation at 2018-07-13-17:00:49\n",
      "INFO:tensorflow:Saving dict for global step 10000: accuracy = 0.7234667, accuracy_baseline = 0.63486665, auc = 0.7518859, auc_precision_recall = 0.8212167, average_loss = 0.57597, global_step = 10000, label/mean = 0.63486665, loss = 8639.55, precision = 0.7327041, prediction/mean = 0.6807781, recall = 0.8885855\n"
     ]
    },
    {
     "data": {
      "text/plain": [
       "{'accuracy': 0.7234667,\n",
       " 'accuracy_baseline': 0.63486665,\n",
       " 'auc': 0.7518859,\n",
       " 'auc_precision_recall': 0.8212167,\n",
       " 'average_loss': 0.57597,\n",
       " 'global_step': 10000,\n",
       " 'label/mean': 0.63486665,\n",
       " 'loss': 8639.55,\n",
       " 'precision': 0.7327041,\n",
       " 'prediction/mean': 0.6807781,\n",
       " 'recall': 0.8885855}"
      ]
     },
     "execution_count": 310,
     "metadata": {},
     "output_type": "execute_result"
    }
   ],
   "source": [
    "test_eval = model.evaluate(input_fn = test_eval_fn)\n",
    "test_eval"
   ]
  },
  {
   "cell_type": "markdown",
   "metadata": {},
   "source": [
    "#### Predict On Test Set"
   ]
  },
  {
   "cell_type": "code",
   "execution_count": 311,
   "metadata": {},
   "outputs": [],
   "source": [
    "pred_gen = model.predict(input_fn = pred_fn)"
   ]
  },
  {
   "cell_type": "code",
   "execution_count": 312,
   "metadata": {},
   "outputs": [
    {
     "name": "stdout",
     "output_type": "stream",
     "text": [
      "INFO:tensorflow:Calling model_fn.\n",
      "INFO:tensorflow:Done calling model_fn.\n",
      "INFO:tensorflow:Graph was finalized.\n",
      "INFO:tensorflow:Restoring parameters from /tmp/tmpzyejyz6e/model.ckpt-10000\n",
      "INFO:tensorflow:Running local_init_op.\n",
      "INFO:tensorflow:Done running local_init_op.\n"
     ]
    }
   ],
   "source": [
    "predictions = list(pred_gen)"
   ]
  },
  {
   "cell_type": "code",
   "execution_count": 313,
   "metadata": {},
   "outputs": [],
   "source": [
    "final_pred = [pred['class_ids'][0] for pred in predictions]"
   ]
  },
  {
   "cell_type": "code",
   "execution_count": 314,
   "metadata": {},
   "outputs": [
    {
     "data": {
      "text/plain": [
       "[0, 1, 1, 1, 0, 0, 1, 1, 1, 1]"
      ]
     },
     "execution_count": 314,
     "metadata": {},
     "output_type": "execute_result"
    }
   ],
   "source": [
    "final_pred[0:10]"
   ]
  },
  {
   "cell_type": "code",
   "execution_count": 315,
   "metadata": {},
   "outputs": [],
   "source": [
    "from sklearn.metrics import classification_report"
   ]
  },
  {
   "cell_type": "code",
   "execution_count": 316,
   "metadata": {},
   "outputs": [
    {
     "name": "stdout",
     "output_type": "stream",
     "text": [
      "             precision    recall  f1-score   support\n",
      "\n",
      "          0       0.69      0.44      0.54      5477\n",
      "          1       0.73      0.89      0.80      9523\n",
      "\n",
      "avg / total       0.72      0.72      0.71     15000\n",
      "\n"
     ]
    }
   ],
   "source": [
    "print(classification_report(y_test, final_pred))"
   ]
  },
  {
   "cell_type": "markdown",
   "metadata": {},
   "source": [
    "<img src = 'cheat_sheet.png'>"
   ]
  },
  {
   "cell_type": "code",
   "execution_count": 501,
   "metadata": {},
   "outputs": [],
   "source": [
    "from sklearn.model_selection import GridSearchCV\n",
    "from sklearn.pipeline import Pipeline\n",
    "from sklearn.preprocessing import StandardScaler\n",
    "from sklearn.metrics import accuracy_score\n",
    "from sklearn.svm import LinearSVC"
   ]
  },
  {
   "cell_type": "markdown",
   "metadata": {},
   "source": [
    "# Linear SVM no PCA Reduction"
   ]
  },
  {
   "cell_type": "code",
   "execution_count": 375,
   "metadata": {},
   "outputs": [],
   "source": [
    "pipe = Pipeline([\n",
    "    ('scaler', StandardScaler()),\n",
    "    ('classify', LinearSVC(loss = 'hinge'))\n",
    "])"
   ]
  },
  {
   "cell_type": "code",
   "execution_count": 391,
   "metadata": {},
   "outputs": [],
   "source": [
    "param_grid = [{'classify__C':[0.01,0.1,1,10,100]}]"
   ]
  },
  {
   "cell_type": "code",
   "execution_count": 392,
   "metadata": {},
   "outputs": [],
   "source": [
    "svc_clf = GridSearchCV(estimator = pipe, param_grid = param_grid, cv = 5)"
   ]
  },
  {
   "cell_type": "code",
   "execution_count": 393,
   "metadata": {},
   "outputs": [
    {
     "data": {
      "text/plain": [
       "GridSearchCV(cv=5, error_score='raise',\n",
       "       estimator=Pipeline(memory=None,\n",
       "     steps=[('scaler', StandardScaler(copy=True, with_mean=True, with_std=True)), ('classify', LinearSVC(C=1.0, class_weight=None, dual=True, fit_intercept=True,\n",
       "     intercept_scaling=1, loss='hinge', max_iter=1000, multi_class='ovr',\n",
       "     penalty='l2', random_state=None, tol=0.0001, verbose=0))]),\n",
       "       fit_params=None, iid=True, n_jobs=1,\n",
       "       param_grid=[{'classify__C': [0.01, 0.1, 1, 10, 100]}],\n",
       "       pre_dispatch='2*n_jobs', refit=True, return_train_score='warn',\n",
       "       scoring=None, verbose=0)"
      ]
     },
     "execution_count": 393,
     "metadata": {},
     "output_type": "execute_result"
    }
   ],
   "source": [
    "svc_clf.fit(X_train,y_train)"
   ]
  },
  {
   "cell_type": "code",
   "execution_count": 401,
   "metadata": {},
   "outputs": [
    {
     "name": "stdout",
     "output_type": "stream",
     "text": [
      "Best Accuracy Score: 0.6646\n"
     ]
    }
   ],
   "source": [
    "print('Best Accuracy Score: {}'.format(svc_clf.best_score_))"
   ]
  },
  {
   "cell_type": "code",
   "execution_count": 502,
   "metadata": {},
   "outputs": [],
   "source": [
    "svm_preds = svc_clf.predict(X_test)"
   ]
  },
  {
   "cell_type": "code",
   "execution_count": 503,
   "metadata": {},
   "outputs": [],
   "source": [
    "svm_accuracy= accuracy_score(y_test, svm_preds)"
   ]
  },
  {
   "cell_type": "code",
   "execution_count": 504,
   "metadata": {},
   "outputs": [
    {
     "name": "stdout",
     "output_type": "stream",
     "text": [
      "             precision    recall  f1-score   support\n",
      "\n",
      "          0       0.68      0.14      0.23      5477\n",
      "          1       0.66      0.96      0.78      9523\n",
      "\n",
      "avg / total       0.67      0.66      0.58     15000\n",
      "\n",
      "Test Accuracy: 0.6610666666666667\n"
     ]
    }
   ],
   "source": [
    "print(classification_report(y_test, svm_preds))\n",
    "print('Test Accuracy: {}'.format(svm_accuracy))"
   ]
  },
  {
   "cell_type": "markdown",
   "metadata": {},
   "source": [
    "# Linear SVM with PCA, KBest & NMF Reduction"
   ]
  },
  {
   "cell_type": "code",
   "execution_count": 412,
   "metadata": {},
   "outputs": [],
   "source": [
    "from sklearn.decomposition import PCA, NMF\n",
    "from sklearn.feature_selection import SelectKBest, chi2"
   ]
  },
  {
   "cell_type": "code",
   "execution_count": 439,
   "metadata": {},
   "outputs": [],
   "source": [
    "pca_pipe = Pipeline([\n",
    "    ('scaler',StandardScaler(with_mean=False)),\n",
    "    ('reduce_dim',PCA()),\n",
    "    ('classify',LinearSVC())\n",
    "])"
   ]
  },
  {
   "cell_type": "code",
   "execution_count": 440,
   "metadata": {},
   "outputs": [],
   "source": [
    "N_FEATURES_OPTIONS = [2, 4, 8]\n",
    "C_OPTIONS = [0.01,0.1,1, 10, 100, 1000]"
   ]
  },
  {
   "cell_type": "code",
   "execution_count": 441,
   "metadata": {},
   "outputs": [],
   "source": [
    "param_grid = [\n",
    "    {\n",
    "        'reduce_dim': [PCA(iterated_power=7), NMF()],\n",
    "        'reduce_dim__n_components': N_FEATURES_OPTIONS,\n",
    "        'classify__C': C_OPTIONS\n",
    "    },\n",
    "    {\n",
    "        'reduce_dim': [SelectKBest(chi2)],\n",
    "        'reduce_dim__k': N_FEATURES_OPTIONS,\n",
    "        'classify__C': C_OPTIONS\n",
    "    }\n",
    "]"
   ]
  },
  {
   "cell_type": "code",
   "execution_count": 442,
   "metadata": {},
   "outputs": [],
   "source": [
    "svm_decomp = GridSearchCV(pca_pipe, cv=5, n_jobs=1, param_grid=param_grid)"
   ]
  },
  {
   "cell_type": "code",
   "execution_count": 443,
   "metadata": {},
   "outputs": [
    {
     "data": {
      "text/plain": [
       "GridSearchCV(cv=5, error_score='raise',\n",
       "       estimator=Pipeline(memory=None,\n",
       "     steps=[('scaler', StandardScaler(copy=True, with_mean=False, with_std=True)), ('reduce_dim', PCA(copy=True, iterated_power='auto', n_components=None, random_state=None,\n",
       "  svd_solver='auto', tol=0.0, whiten=False)), ('classify', LinearSVC(C=1.0, class_weight=None, dual=True, fit_intercept=True,\n",
       "     intercept_scaling=1, loss='squared_hinge', max_iter=1000,\n",
       "     multi_class='ovr', penalty='l2', random_state=None, tol=0.0001,\n",
       "     verbose=0))]),\n",
       "       fit_params=None, iid=True, n_jobs=1,\n",
       "       param_grid=[{'reduce_dim': [PCA(copy=True, iterated_power=7, n_components=8, random_state=None,\n",
       "  svd_solver='auto', tol=0.0, whiten=False), NMF(alpha=0.0, beta_loss='frobenius', init=None, l1_ratio=0.0, max_iter=200,\n",
       "  n_components=8, random_state=None, shuffle=False, solver='cd',\n",
       "  tol=0.0001, ver...hi2 at 0x7f60bcc76f28>)], 'reduce_dim__k': [2, 4, 8], 'classify__C': [0.01, 0.1, 1, 10, 100, 1000]}],\n",
       "       pre_dispatch='2*n_jobs', refit=True, return_train_score='warn',\n",
       "       scoring=None, verbose=0)"
      ]
     },
     "execution_count": 443,
     "metadata": {},
     "output_type": "execute_result"
    }
   ],
   "source": [
    "svm_decomp.fit(X_train, y_train)"
   ]
  },
  {
   "cell_type": "code",
   "execution_count": 444,
   "metadata": {},
   "outputs": [
    {
     "name": "stdout",
     "output_type": "stream",
     "text": [
      "SVM with Dimensionality Reduction Best Score: 0.6829428571428572\n"
     ]
    }
   ],
   "source": [
    "print('SVM with Dimensionality Reduction Best Score: {}'.format(svm_decomp.best_score_))"
   ]
  },
  {
   "cell_type": "code",
   "execution_count": 445,
   "metadata": {},
   "outputs": [],
   "source": [
    "decomp_preds = svm_decomp.predict(X_test)"
   ]
  },
  {
   "cell_type": "code",
   "execution_count": 505,
   "metadata": {},
   "outputs": [],
   "source": [
    "decomp_accuracy = accuracy_score(y_test, decomp_preds)"
   ]
  },
  {
   "cell_type": "code",
   "execution_count": 506,
   "metadata": {},
   "outputs": [
    {
     "name": "stdout",
     "output_type": "stream",
     "text": [
      "             precision    recall  f1-score   support\n",
      "\n",
      "          0       0.66      0.26      0.37      5477\n",
      "          1       0.68      0.93      0.79      9523\n",
      "\n",
      "avg / total       0.68      0.68      0.63     15000\n",
      "\n",
      "Test Accuracy: 0.6813333333333333\n"
     ]
    }
   ],
   "source": [
    "print(classification_report(y_test, decomp_preds))\n",
    "print('Test Accuracy: {}'.format(decomp_accuracy))"
   ]
  },
  {
   "cell_type": "markdown",
   "metadata": {},
   "source": [
    "# Random Forest Classification"
   ]
  },
  {
   "cell_type": "code",
   "execution_count": 474,
   "metadata": {},
   "outputs": [],
   "source": [
    "from sklearn.ensemble import RandomForestClassifier"
   ]
  },
  {
   "cell_type": "code",
   "execution_count": 475,
   "metadata": {},
   "outputs": [],
   "source": [
    "param_grid = {'n_estimators':[100,200,300,400,500],\n",
    "              'max_leaf_nodes':[10,15,20,25]}"
   ]
  },
  {
   "cell_type": "code",
   "execution_count": 476,
   "metadata": {},
   "outputs": [],
   "source": [
    "forest_clf = RandomForestClassifier()"
   ]
  },
  {
   "cell_type": "code",
   "execution_count": 477,
   "metadata": {},
   "outputs": [],
   "source": [
    "forest_cv = GridSearchCV(forest_clf, param_grid = param_grid, cv=5)"
   ]
  },
  {
   "cell_type": "code",
   "execution_count": 478,
   "metadata": {},
   "outputs": [
    {
     "data": {
      "text/plain": [
       "GridSearchCV(cv=5, error_score='raise',\n",
       "       estimator=RandomForestClassifier(bootstrap=True, class_weight=None, criterion='gini',\n",
       "            max_depth=None, max_features='auto', max_leaf_nodes=None,\n",
       "            min_impurity_decrease=0.0, min_impurity_split=None,\n",
       "            min_samples_leaf=1, min_samples_split=2,\n",
       "            min_weight_fraction_leaf=0.0, n_estimators=10, n_jobs=1,\n",
       "            oob_score=False, random_state=None, verbose=0,\n",
       "            warm_start=False),\n",
       "       fit_params=None, iid=True, n_jobs=1,\n",
       "       param_grid={'n_estimators': [100, 200, 300, 400, 500], 'max_leaf_nodes': [10, 15, 20, 25]},\n",
       "       pre_dispatch='2*n_jobs', refit=True, return_train_score='warn',\n",
       "       scoring=None, verbose=0)"
      ]
     },
     "execution_count": 478,
     "metadata": {},
     "output_type": "execute_result"
    }
   ],
   "source": [
    "forest_cv.fit(X_train, y_train)"
   ]
  },
  {
   "cell_type": "code",
   "execution_count": 481,
   "metadata": {},
   "outputs": [
    {
     "name": "stdout",
     "output_type": "stream",
     "text": [
      "Best Random Forest Score: 0.7599714285714285\n"
     ]
    }
   ],
   "source": [
    "print('Best Random Forest Score: {}'.format(forest_cv.best_score_))"
   ]
  },
  {
   "cell_type": "code",
   "execution_count": 482,
   "metadata": {},
   "outputs": [],
   "source": [
    "forest_preds = forest_cv.predict(X_test)"
   ]
  },
  {
   "cell_type": "code",
   "execution_count": 507,
   "metadata": {},
   "outputs": [],
   "source": [
    "forest_accuracy = accuracy_score(y_test, forest_preds)"
   ]
  },
  {
   "cell_type": "code",
   "execution_count": 508,
   "metadata": {},
   "outputs": [
    {
     "name": "stdout",
     "output_type": "stream",
     "text": [
      "             precision    recall  f1-score   support\n",
      "\n",
      "          0       0.74      0.50      0.60      5477\n",
      "          1       0.76      0.90      0.82      9523\n",
      "\n",
      "avg / total       0.75      0.75      0.74     15000\n",
      "\n",
      "Test Accuracy: 0.7534666666666666\n"
     ]
    }
   ],
   "source": [
    "print(classification_report(y_test, forest_preds))\n",
    "print('Test Accuracy: {}'.format(forest_accuracy))"
   ]
  },
  {
   "cell_type": "markdown",
   "metadata": {},
   "source": [
    "# Gradient Boosting Classifier"
   ]
  },
  {
   "cell_type": "code",
   "execution_count": 485,
   "metadata": {},
   "outputs": [],
   "source": [
    "from sklearn.metrics import mean_squared_error\n",
    "from sklearn.ensemble import GradientBoostingClassifier"
   ]
  },
  {
   "cell_type": "code",
   "execution_count": 494,
   "metadata": {},
   "outputs": [],
   "source": [
    "param_grids = {\n",
    "               'max_depth':[1,5,10,15],\n",
    "               'n_estimators':[2,3,4,5],\n",
    "               }"
   ]
  },
  {
   "cell_type": "code",
   "execution_count": 495,
   "metadata": {},
   "outputs": [],
   "source": [
    "boost_clf = GradientBoostingClassifier()"
   ]
  },
  {
   "cell_type": "code",
   "execution_count": 496,
   "metadata": {},
   "outputs": [],
   "source": [
    "boost_cv = GridSearchCV(boost_clf, param_grid=param_grids, cv = 5)"
   ]
  },
  {
   "cell_type": "code",
   "execution_count": 497,
   "metadata": {},
   "outputs": [
    {
     "data": {
      "text/plain": [
       "GridSearchCV(cv=5, error_score='raise',\n",
       "       estimator=GradientBoostingClassifier(criterion='friedman_mse', init=None,\n",
       "              learning_rate=0.1, loss='deviance', max_depth=3,\n",
       "              max_features=None, max_leaf_nodes=None,\n",
       "              min_impurity_decrease=0.0, min_impurity_split=None,\n",
       "              min_samples_leaf=1, min_samples_split=2,\n",
       "              min_weight_fraction_leaf=0.0, n_estimators=100,\n",
       "              presort='auto', random_state=None, subsample=1.0, verbose=0,\n",
       "              warm_start=False),\n",
       "       fit_params=None, iid=True, n_jobs=1,\n",
       "       param_grid={'max_depth': [1, 5, 10, 15], 'n_estimators': [2, 3, 4, 5]},\n",
       "       pre_dispatch='2*n_jobs', refit=True, return_train_score='warn',\n",
       "       scoring=None, verbose=0)"
      ]
     },
     "execution_count": 497,
     "metadata": {},
     "output_type": "execute_result"
    }
   ],
   "source": [
    "boost_cv.fit(X_train,y_train)"
   ]
  },
  {
   "cell_type": "code",
   "execution_count": 498,
   "metadata": {},
   "outputs": [
    {
     "name": "stdout",
     "output_type": "stream",
     "text": [
      "Best Boosted Gradient Score: 0.7543714285714286\n"
     ]
    }
   ],
   "source": [
    "print('Best Boosted Gradient Score: {}'.format(boost_cv.best_score_))"
   ]
  },
  {
   "cell_type": "code",
   "execution_count": 499,
   "metadata": {},
   "outputs": [],
   "source": [
    "boost_pred = boost_cv.predict(X_test)"
   ]
  },
  {
   "cell_type": "code",
   "execution_count": 509,
   "metadata": {},
   "outputs": [],
   "source": [
    "boost_accuracy = accuracy_score(y_test, boost_pred)"
   ]
  },
  {
   "cell_type": "code",
   "execution_count": 510,
   "metadata": {},
   "outputs": [
    {
     "name": "stdout",
     "output_type": "stream",
     "text": [
      "             precision    recall  f1-score   support\n",
      "\n",
      "          0       0.79      0.44      0.57      5477\n",
      "          1       0.74      0.93      0.83      9523\n",
      "\n",
      "avg / total       0.76      0.75      0.73     15000\n",
      "\n",
      "Test Accuracy: 0.7524666666666666\n"
     ]
    }
   ],
   "source": [
    "print(classification_report(y_test,boost_pred))\n",
    "print('Test Accuracy: {}'.format(boost_accuracy))"
   ]
  },
  {
   "cell_type": "code",
   "execution_count": 538,
   "metadata": {},
   "outputs": [],
   "source": [
    "model_performance_dict = {'Train Score':[\n",
    "                                    svc_clf.best_score_,\n",
    "                                    svm_decomp.best_score_,\n",
    "                                    forest_cv.best_score_,\n",
    "                                    boost_cv.best_score_,\n",
    "                                    0.72634286\n",
    "                                    ],\n",
    "                          'Test Score':[\n",
    "                                    svm_accuracy,\n",
    "                                    decomp_accuracy,\n",
    "                                    forest_accuracy,\n",
    "                                    boost_accuracy, \n",
    "                                    0.7234667\n",
    "                                    ], \n",
    "                          'Precision':[\n",
    "                                    0.67, \n",
    "                                    0.68,\n",
    "                                    0.75,\n",
    "                                    0.76,\n",
    "                                    0.72\n",
    "                                    ],\n",
    "                          'Recall':[\n",
    "                                    0.66,\n",
    "                                    0.68,\n",
    "                                    0.75,\n",
    "                                    0.75,\n",
    "                                    0.72\n",
    "                                   ],\n",
    "                           'F1 Score':[\n",
    "                                    0.58,\n",
    "                                    0.63,\n",
    "                                    0.74,\n",
    "                                    0.73,\n",
    "                                    0.71\n",
    "                           ]\n",
    "                         }\n",
    "index = ['Linear_SVM','Linear_SVM_Dimension','Random_Forest','Gradient_Boosting', 'Deep Neural Network']"
   ]
  },
  {
   "cell_type": "code",
   "execution_count": 539,
   "metadata": {},
   "outputs": [],
   "source": [
    "model_performance = pd.DataFrame(data = model_performance_dict, index = index)"
   ]
  },
  {
   "cell_type": "code",
   "execution_count": 540,
   "metadata": {},
   "outputs": [
    {
     "data": {
      "text/html": [
       "<div>\n",
       "<style scoped>\n",
       "    .dataframe tbody tr th:only-of-type {\n",
       "        vertical-align: middle;\n",
       "    }\n",
       "\n",
       "    .dataframe tbody tr th {\n",
       "        vertical-align: top;\n",
       "    }\n",
       "\n",
       "    .dataframe thead th {\n",
       "        text-align: right;\n",
       "    }\n",
       "</style>\n",
       "<table border=\"1\" class=\"dataframe\">\n",
       "  <thead>\n",
       "    <tr style=\"text-align: right;\">\n",
       "      <th></th>\n",
       "      <th>F1 Score</th>\n",
       "      <th>Precision</th>\n",
       "      <th>Recall</th>\n",
       "      <th>Test Score</th>\n",
       "      <th>Train Score</th>\n",
       "    </tr>\n",
       "  </thead>\n",
       "  <tbody>\n",
       "    <tr>\n",
       "      <th>Linear_SVM</th>\n",
       "      <td>0.58</td>\n",
       "      <td>0.67</td>\n",
       "      <td>0.66</td>\n",
       "      <td>0.661067</td>\n",
       "      <td>0.664600</td>\n",
       "    </tr>\n",
       "    <tr>\n",
       "      <th>Linear_SVM_Dimension</th>\n",
       "      <td>0.63</td>\n",
       "      <td>0.68</td>\n",
       "      <td>0.68</td>\n",
       "      <td>0.681333</td>\n",
       "      <td>0.682943</td>\n",
       "    </tr>\n",
       "    <tr>\n",
       "      <th>Random_Forest</th>\n",
       "      <td>0.74</td>\n",
       "      <td>0.75</td>\n",
       "      <td>0.75</td>\n",
       "      <td>0.753467</td>\n",
       "      <td>0.759971</td>\n",
       "    </tr>\n",
       "    <tr>\n",
       "      <th>Gradient_Boosting</th>\n",
       "      <td>0.73</td>\n",
       "      <td>0.76</td>\n",
       "      <td>0.75</td>\n",
       "      <td>0.752467</td>\n",
       "      <td>0.754371</td>\n",
       "    </tr>\n",
       "    <tr>\n",
       "      <th>Deep Neural Network</th>\n",
       "      <td>0.71</td>\n",
       "      <td>0.72</td>\n",
       "      <td>0.72</td>\n",
       "      <td>0.723467</td>\n",
       "      <td>0.726343</td>\n",
       "    </tr>\n",
       "  </tbody>\n",
       "</table>\n",
       "</div>"
      ],
      "text/plain": [
       "                      F1 Score  Precision  Recall  Test Score  Train Score\n",
       "Linear_SVM                0.58       0.67    0.66    0.661067     0.664600\n",
       "Linear_SVM_Dimension      0.63       0.68    0.68    0.681333     0.682943\n",
       "Random_Forest             0.74       0.75    0.75    0.753467     0.759971\n",
       "Gradient_Boosting         0.73       0.76    0.75    0.752467     0.754371\n",
       "Deep Neural Network       0.71       0.72    0.72    0.723467     0.726343"
      ]
     },
     "execution_count": 540,
     "metadata": {},
     "output_type": "execute_result"
    }
   ],
   "source": [
    "model_performance"
   ]
  },
  {
   "cell_type": "markdown",
   "metadata": {},
   "source": [
    "# Conclusion\n",
    "--------------------------------"
   ]
  },
  {
   "cell_type": "markdown",
   "metadata": {},
   "source": [
    "Surprisingly the DNN didn't perform as well as Random Forest and Gradient Boosting. This doesn't mean that it can't perform better. Layers can be added/removed, Neurons can be added/removed, different combinations of optimizers and layers can be trained, Scaling on the data can be performed to attenuate the curse of dimensionality. But due to to timebox constraints, not every possible combination can be investigated. With that being said, the recommendation would be made to use the Gradient Boosted model while improving the DNN. Even though the Random Forest had slightly higher Test and Train scores, that shouldn't necessarily be the deciding factor. As more data is trained on the models, the boosted model should start to perform better as it learns from previous errors and accounts for that. Also, the Random Forest might of slightly edged out the Boosted model because of the training data and how it had been shuffled. Shuffled differently, the boosted model might have performed better.  It could all be just purely circumstantial in this case, and realistically the boosted model could be performing better. And Finally, the precision of the boosted model is just slightly higher. This means it can at least predict those users who will be retained with a fair amount of accuracy. Therefore, the following discourse should be keep tuning the DNN, keep feeding the Boosted more data, and after an amount of time, revisit the performance of the two again."
   ]
  }
 ],
 "metadata": {
  "kernelspec": {
   "display_name": "Python 3",
   "language": "python",
   "name": "python3"
  },
  "language_info": {
   "codemirror_mode": {
    "name": "ipython",
    "version": 3
   },
   "file_extension": ".py",
   "mimetype": "text/x-python",
   "name": "python",
   "nbconvert_exporter": "python",
   "pygments_lexer": "ipython3",
   "version": "3.6.4"
  }
 },
 "nbformat": 4,
 "nbformat_minor": 2
}
