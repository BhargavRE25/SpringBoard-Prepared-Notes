{
 "cells": [
  {
   "cell_type": "code",
   "execution_count": 91,
   "metadata": {},
   "outputs": [],
   "source": [
    "import pandas as pd\n",
    "import matplotlib.pyplot as plt\n",
    "from sklearn.preprocessing import MinMaxScaler\n",
    "from sklearn.model_selection import train_test_split\n",
    "from sklearn.linear_model import LogisticRegression\n",
    "from sklearn.model_selection import GridSearchCV\n",
    "from sklearn.metrics import accuracy_score\n",
    "from sklearn.naive_bayes import GaussianNB"
   ]
  },
  {
   "cell_type": "code",
   "execution_count": 44,
   "metadata": {},
   "outputs": [
    {
     "data": {
      "text/html": [
       "<div>\n",
       "<style scoped>\n",
       "    .dataframe tbody tr th:only-of-type {\n",
       "        vertical-align: middle;\n",
       "    }\n",
       "\n",
       "    .dataframe tbody tr th {\n",
       "        vertical-align: top;\n",
       "    }\n",
       "\n",
       "    .dataframe thead th {\n",
       "        text-align: right;\n",
       "    }\n",
       "</style>\n",
       "<table border=\"1\" class=\"dataframe\">\n",
       "  <thead>\n",
       "    <tr style=\"text-align: right;\">\n",
       "      <th></th>\n",
       "      <th>Date</th>\n",
       "      <th>Positive Sentiment Averaged</th>\n",
       "      <th>Negative Sentiment Averaged</th>\n",
       "      <th>Overall Sentiment Averaged</th>\n",
       "      <th>Positive Sentiment Summed</th>\n",
       "      <th>Negative Sentiment Summed</th>\n",
       "      <th>Overall Sentiment Summed</th>\n",
       "      <th>Positive Sentiment RMS</th>\n",
       "      <th>Negative Sentiment RMS</th>\n",
       "      <th>Overall Sentiment RMS</th>\n",
       "      <th>...</th>\n",
       "      <th>BTC_Vol</th>\n",
       "      <th>ETH_Change</th>\n",
       "      <th>ETH_High</th>\n",
       "      <th>ETH_Low</th>\n",
       "      <th>ETH_Open</th>\n",
       "      <th>ETH_Price</th>\n",
       "      <th>ETH_Vol</th>\n",
       "      <th>ten day percent change</th>\n",
       "      <th>thirty day percent change</th>\n",
       "      <th>binned price</th>\n",
       "    </tr>\n",
       "  </thead>\n",
       "  <tbody>\n",
       "    <tr>\n",
       "      <th>0</th>\n",
       "      <td>2017-08-01</td>\n",
       "      <td>0.000000</td>\n",
       "      <td>0.000000</td>\n",
       "      <td>0.000000</td>\n",
       "      <td>0.000000</td>\n",
       "      <td>0.000000</td>\n",
       "      <td>0.000000</td>\n",
       "      <td>0.000000</td>\n",
       "      <td>0.000000</td>\n",
       "      <td>0.000000</td>\n",
       "      <td>...</td>\n",
       "      <td>42.31</td>\n",
       "      <td>12.53</td>\n",
       "      <td>232.59</td>\n",
       "      <td>200.80</td>\n",
       "      <td>200.81</td>\n",
       "      <td>225.97</td>\n",
       "      <td>352.31</td>\n",
       "      <td>0.000000</td>\n",
       "      <td>0.000000</td>\n",
       "      <td>3</td>\n",
       "    </tr>\n",
       "    <tr>\n",
       "      <th>1</th>\n",
       "      <td>2017-08-02</td>\n",
       "      <td>0.176871</td>\n",
       "      <td>-0.072562</td>\n",
       "      <td>0.104308</td>\n",
       "      <td>0.176871</td>\n",
       "      <td>-0.072562</td>\n",
       "      <td>0.104308</td>\n",
       "      <td>0.176871</td>\n",
       "      <td>-0.072562</td>\n",
       "      <td>0.104308</td>\n",
       "      <td>...</td>\n",
       "      <td>23.76</td>\n",
       "      <td>-3.53</td>\n",
       "      <td>229.70</td>\n",
       "      <td>215.00</td>\n",
       "      <td>225.97</td>\n",
       "      <td>218.00</td>\n",
       "      <td>159.47</td>\n",
       "      <td>0.024648</td>\n",
       "      <td>0.024648</td>\n",
       "      <td>3</td>\n",
       "    </tr>\n",
       "    <tr>\n",
       "      <th>2</th>\n",
       "      <td>2017-08-03</td>\n",
       "      <td>0.000000</td>\n",
       "      <td>0.000000</td>\n",
       "      <td>0.000000</td>\n",
       "      <td>0.000000</td>\n",
       "      <td>0.000000</td>\n",
       "      <td>0.000000</td>\n",
       "      <td>0.000000</td>\n",
       "      <td>0.000000</td>\n",
       "      <td>0.000000</td>\n",
       "      <td>...</td>\n",
       "      <td>16.86</td>\n",
       "      <td>3.11</td>\n",
       "      <td>228.20</td>\n",
       "      <td>217.07</td>\n",
       "      <td>218.00</td>\n",
       "      <td>224.79</td>\n",
       "      <td>96.19</td>\n",
       "      <td>0.018779</td>\n",
       "      <td>0.018779</td>\n",
       "      <td>3</td>\n",
       "    </tr>\n",
       "    <tr>\n",
       "      <th>3</th>\n",
       "      <td>2017-08-04</td>\n",
       "      <td>0.163616</td>\n",
       "      <td>-0.102975</td>\n",
       "      <td>0.060641</td>\n",
       "      <td>0.163616</td>\n",
       "      <td>-0.102975</td>\n",
       "      <td>0.060641</td>\n",
       "      <td>0.163616</td>\n",
       "      <td>-0.102975</td>\n",
       "      <td>0.060641</td>\n",
       "      <td>...</td>\n",
       "      <td>18.99</td>\n",
       "      <td>-1.81</td>\n",
       "      <td>228.30</td>\n",
       "      <td>218.66</td>\n",
       "      <td>224.79</td>\n",
       "      <td>220.73</td>\n",
       "      <td>83.46</td>\n",
       "      <td>0.079812</td>\n",
       "      <td>0.079812</td>\n",
       "      <td>3</td>\n",
       "    </tr>\n",
       "    <tr>\n",
       "      <th>4</th>\n",
       "      <td>2017-08-05</td>\n",
       "      <td>0.000000</td>\n",
       "      <td>0.000000</td>\n",
       "      <td>0.000000</td>\n",
       "      <td>0.000000</td>\n",
       "      <td>0.000000</td>\n",
       "      <td>0.000000</td>\n",
       "      <td>0.000000</td>\n",
       "      <td>0.000000</td>\n",
       "      <td>0.000000</td>\n",
       "      <td>...</td>\n",
       "      <td>50.56</td>\n",
       "      <td>15.01</td>\n",
       "      <td>259.90</td>\n",
       "      <td>219.23</td>\n",
       "      <td>220.73</td>\n",
       "      <td>253.87</td>\n",
       "      <td>234.87</td>\n",
       "      <td>0.058099</td>\n",
       "      <td>0.058099</td>\n",
       "      <td>3</td>\n",
       "    </tr>\n",
       "  </tbody>\n",
       "</table>\n",
       "<p>5 rows × 31 columns</p>\n",
       "</div>"
      ],
      "text/plain": [
       "         Date  Positive Sentiment Averaged  Negative Sentiment Averaged  \\\n",
       "0  2017-08-01                     0.000000                     0.000000   \n",
       "1  2017-08-02                     0.176871                    -0.072562   \n",
       "2  2017-08-03                     0.000000                     0.000000   \n",
       "3  2017-08-04                     0.163616                    -0.102975   \n",
       "4  2017-08-05                     0.000000                     0.000000   \n",
       "\n",
       "   Overall Sentiment Averaged  Positive Sentiment Summed  \\\n",
       "0                    0.000000                   0.000000   \n",
       "1                    0.104308                   0.176871   \n",
       "2                    0.000000                   0.000000   \n",
       "3                    0.060641                   0.163616   \n",
       "4                    0.000000                   0.000000   \n",
       "\n",
       "   Negative Sentiment Summed  Overall Sentiment Summed  \\\n",
       "0                   0.000000                  0.000000   \n",
       "1                  -0.072562                  0.104308   \n",
       "2                   0.000000                  0.000000   \n",
       "3                  -0.102975                  0.060641   \n",
       "4                   0.000000                  0.000000   \n",
       "\n",
       "   Positive Sentiment RMS  Negative Sentiment RMS  Overall Sentiment RMS  \\\n",
       "0                0.000000                0.000000               0.000000   \n",
       "1                0.176871               -0.072562               0.104308   \n",
       "2                0.000000                0.000000               0.000000   \n",
       "3                0.163616               -0.102975               0.060641   \n",
       "4                0.000000                0.000000               0.000000   \n",
       "\n",
       "       ...       BTC_Vol  ETH_Change  ETH_High  ETH_Low  ETH_Open  ETH_Price  \\\n",
       "0      ...         42.31       12.53    232.59   200.80    200.81     225.97   \n",
       "1      ...         23.76       -3.53    229.70   215.00    225.97     218.00   \n",
       "2      ...         16.86        3.11    228.20   217.07    218.00     224.79   \n",
       "3      ...         18.99       -1.81    228.30   218.66    224.79     220.73   \n",
       "4      ...         50.56       15.01    259.90   219.23    220.73     253.87   \n",
       "\n",
       "   ETH_Vol  ten day percent change  thirty day percent change  binned price  \n",
       "0   352.31                0.000000                   0.000000             3  \n",
       "1   159.47                0.024648                   0.024648             3  \n",
       "2    96.19                0.018779                   0.018779             3  \n",
       "3    83.46                0.079812                   0.079812             3  \n",
       "4   234.87                0.058099                   0.058099             3  \n",
       "\n",
       "[5 rows x 31 columns]"
      ]
     },
     "execution_count": 44,
     "metadata": {},
     "output_type": "execute_result"
    }
   ],
   "source": [
    "df = pd.read_csv('XRP_Data.csv')\n",
    "df.head()"
   ]
  },
  {
   "cell_type": "code",
   "execution_count": 51,
   "metadata": {},
   "outputs": [
    {
     "name": "stderr",
     "output_type": "stream",
     "text": [
      "/home/scott/anaconda3/lib/python3.6/site-packages/ipykernel_launcher.py:2: SettingWithCopyWarning: \n",
      "A value is trying to be set on a copy of a slice from a DataFrame.\n",
      "Try using .loc[row_indexer,col_indexer] = value instead\n",
      "\n",
      "See the caveats in the documentation: http://pandas.pydata.org/pandas-docs/stable/indexing.html#indexing-view-versus-copy\n",
      "  \n"
     ]
    },
    {
     "data": {
      "text/html": [
       "<div>\n",
       "<style scoped>\n",
       "    .dataframe tbody tr th:only-of-type {\n",
       "        vertical-align: middle;\n",
       "    }\n",
       "\n",
       "    .dataframe tbody tr th {\n",
       "        vertical-align: top;\n",
       "    }\n",
       "\n",
       "    .dataframe thead th {\n",
       "        text-align: right;\n",
       "    }\n",
       "</style>\n",
       "<table border=\"1\" class=\"dataframe\">\n",
       "  <thead>\n",
       "    <tr style=\"text-align: right;\">\n",
       "      <th></th>\n",
       "      <th>Overall Sentiment Summed</th>\n",
       "      <th>XRP_High</th>\n",
       "      <th>BTC_High</th>\n",
       "      <th>BTC_Price</th>\n",
       "      <th>ETH_High</th>\n",
       "      <th>ETH_Price</th>\n",
       "      <th>thirty day percent change</th>\n",
       "      <th>binned price</th>\n",
       "      <th>Price</th>\n",
       "    </tr>\n",
       "  </thead>\n",
       "  <tbody>\n",
       "    <tr>\n",
       "      <th>0</th>\n",
       "      <td>0.000000</td>\n",
       "      <td>0.1850</td>\n",
       "      <td>2901.6</td>\n",
       "      <td>2731.2</td>\n",
       "      <td>232.59</td>\n",
       "      <td>225.97</td>\n",
       "      <td>0.000000</td>\n",
       "      <td>3</td>\n",
       "      <td>0.1786</td>\n",
       "    </tr>\n",
       "    <tr>\n",
       "      <th>1</th>\n",
       "      <td>0.104308</td>\n",
       "      <td>0.1800</td>\n",
       "      <td>2757.8</td>\n",
       "      <td>2702.0</td>\n",
       "      <td>229.70</td>\n",
       "      <td>218.00</td>\n",
       "      <td>0.024648</td>\n",
       "      <td>3</td>\n",
       "      <td>0.1704</td>\n",
       "    </tr>\n",
       "    <tr>\n",
       "      <th>2</th>\n",
       "      <td>0.000000</td>\n",
       "      <td>0.1772</td>\n",
       "      <td>2813.0</td>\n",
       "      <td>2790.3</td>\n",
       "      <td>228.20</td>\n",
       "      <td>224.79</td>\n",
       "      <td>0.018779</td>\n",
       "      <td>3</td>\n",
       "      <td>0.1746</td>\n",
       "    </tr>\n",
       "    <tr>\n",
       "      <th>3</th>\n",
       "      <td>0.060641</td>\n",
       "      <td>0.1780</td>\n",
       "      <td>2874.8</td>\n",
       "      <td>2860.0</td>\n",
       "      <td>228.30</td>\n",
       "      <td>220.73</td>\n",
       "      <td>0.079812</td>\n",
       "      <td>3</td>\n",
       "      <td>0.1736</td>\n",
       "    </tr>\n",
       "    <tr>\n",
       "      <th>4</th>\n",
       "      <td>0.000000</td>\n",
       "      <td>0.1920</td>\n",
       "      <td>3331.9</td>\n",
       "      <td>3256.4</td>\n",
       "      <td>259.90</td>\n",
       "      <td>253.87</td>\n",
       "      <td>0.058099</td>\n",
       "      <td>3</td>\n",
       "      <td>0.1840</td>\n",
       "    </tr>\n",
       "  </tbody>\n",
       "</table>\n",
       "</div>"
      ],
      "text/plain": [
       "   Overall Sentiment Summed  XRP_High  BTC_High  BTC_Price  ETH_High  \\\n",
       "0                  0.000000    0.1850    2901.6     2731.2    232.59   \n",
       "1                  0.104308    0.1800    2757.8     2702.0    229.70   \n",
       "2                  0.000000    0.1772    2813.0     2790.3    228.20   \n",
       "3                  0.060641    0.1780    2874.8     2860.0    228.30   \n",
       "4                  0.000000    0.1920    3331.9     3256.4    259.90   \n",
       "\n",
       "   ETH_Price  thirty day percent change  binned price   Price  \n",
       "0     225.97                   0.000000             3  0.1786  \n",
       "1     218.00                   0.024648             3  0.1704  \n",
       "2     224.79                   0.018779             3  0.1746  \n",
       "3     220.73                   0.079812             3  0.1736  \n",
       "4     253.87                   0.058099             3  0.1840  "
      ]
     },
     "execution_count": 51,
     "metadata": {},
     "output_type": "execute_result"
    }
   ],
   "source": [
    "X = df.iloc[:,[6,11,17,20,23,26,29,30]]\n",
    "X['Price'] = df.XRP_Price.shift(1)\n",
    "X.Price.at[0] = 0.1786\n",
    "X.head()"
   ]
  },
  {
   "cell_type": "code",
   "execution_count": 19,
   "metadata": {},
   "outputs": [
    {
     "data": {
      "text/plain": [
       "0    0\n",
       "1    0\n",
       "2    0\n",
       "3    0\n",
       "4    0\n",
       "Name: binned price, dtype: int64"
      ]
     },
     "execution_count": 19,
     "metadata": {},
     "output_type": "execute_result"
    }
   ],
   "source": [
    "y = df.iloc[:,-1]\n",
    "y.head()"
   ]
  },
  {
   "cell_type": "code",
   "execution_count": 52,
   "metadata": {},
   "outputs": [],
   "source": [
    "scaler = MinMaxScaler()\n",
    "scaler.fit(X.values)\n",
    "data = scaler.transform(X.values)\n",
    "df2 = pd.DataFrame(data, columns = X.columns)"
   ]
  },
  {
   "cell_type": "code",
   "execution_count": 53,
   "metadata": {},
   "outputs": [
    {
     "data": {
      "text/html": [
       "<div>\n",
       "<style scoped>\n",
       "    .dataframe tbody tr th:only-of-type {\n",
       "        vertical-align: middle;\n",
       "    }\n",
       "\n",
       "    .dataframe tbody tr th {\n",
       "        vertical-align: top;\n",
       "    }\n",
       "\n",
       "    .dataframe thead th {\n",
       "        text-align: right;\n",
       "    }\n",
       "</style>\n",
       "<table border=\"1\" class=\"dataframe\">\n",
       "  <thead>\n",
       "    <tr style=\"text-align: right;\">\n",
       "      <th></th>\n",
       "      <th>Overall Sentiment Summed</th>\n",
       "      <th>XRP_High</th>\n",
       "      <th>BTC_High</th>\n",
       "      <th>BTC_Price</th>\n",
       "      <th>ETH_High</th>\n",
       "      <th>ETH_Price</th>\n",
       "      <th>thirty day percent change</th>\n",
       "      <th>binned price</th>\n",
       "      <th>Price</th>\n",
       "    </tr>\n",
       "  </thead>\n",
       "  <tbody>\n",
       "    <tr>\n",
       "      <th>0</th>\n",
       "      <td>0.238905</td>\n",
       "      <td>0.007758</td>\n",
       "      <td>0.008393</td>\n",
       "      <td>0.001771</td>\n",
       "      <td>0.003674</td>\n",
       "      <td>0.006859</td>\n",
       "      <td>0.079451</td>\n",
       "      <td>0.061224</td>\n",
       "      <td>0.009971</td>\n",
       "    </tr>\n",
       "    <tr>\n",
       "      <th>1</th>\n",
       "      <td>0.266786</td>\n",
       "      <td>0.006155</td>\n",
       "      <td>0.000000</td>\n",
       "      <td>0.000000</td>\n",
       "      <td>0.001255</td>\n",
       "      <td>0.000000</td>\n",
       "      <td>0.081409</td>\n",
       "      <td>0.061224</td>\n",
       "      <td>0.006839</td>\n",
       "    </tr>\n",
       "    <tr>\n",
       "      <th>2</th>\n",
       "      <td>0.238905</td>\n",
       "      <td>0.005258</td>\n",
       "      <td>0.003222</td>\n",
       "      <td>0.005356</td>\n",
       "      <td>0.000000</td>\n",
       "      <td>0.005843</td>\n",
       "      <td>0.080943</td>\n",
       "      <td>0.061224</td>\n",
       "      <td>0.008443</td>\n",
       "    </tr>\n",
       "    <tr>\n",
       "      <th>3</th>\n",
       "      <td>0.255114</td>\n",
       "      <td>0.005514</td>\n",
       "      <td>0.006829</td>\n",
       "      <td>0.009584</td>\n",
       "      <td>0.000084</td>\n",
       "      <td>0.002349</td>\n",
       "      <td>0.085792</td>\n",
       "      <td>0.061224</td>\n",
       "      <td>0.008061</td>\n",
       "    </tr>\n",
       "    <tr>\n",
       "      <th>4</th>\n",
       "      <td>0.238905</td>\n",
       "      <td>0.010003</td>\n",
       "      <td>0.033508</td>\n",
       "      <td>0.033631</td>\n",
       "      <td>0.026527</td>\n",
       "      <td>0.030869</td>\n",
       "      <td>0.084067</td>\n",
       "      <td>0.061224</td>\n",
       "      <td>0.012034</td>\n",
       "    </tr>\n",
       "  </tbody>\n",
       "</table>\n",
       "</div>"
      ],
      "text/plain": [
       "   Overall Sentiment Summed  XRP_High  BTC_High  BTC_Price  ETH_High  \\\n",
       "0                  0.238905  0.007758  0.008393   0.001771  0.003674   \n",
       "1                  0.266786  0.006155  0.000000   0.000000  0.001255   \n",
       "2                  0.238905  0.005258  0.003222   0.005356  0.000000   \n",
       "3                  0.255114  0.005514  0.006829   0.009584  0.000084   \n",
       "4                  0.238905  0.010003  0.033508   0.033631  0.026527   \n",
       "\n",
       "   ETH_Price  thirty day percent change  binned price     Price  \n",
       "0   0.006859                   0.079451      0.061224  0.009971  \n",
       "1   0.000000                   0.081409      0.061224  0.006839  \n",
       "2   0.005843                   0.080943      0.061224  0.008443  \n",
       "3   0.002349                   0.085792      0.061224  0.008061  \n",
       "4   0.030869                   0.084067      0.061224  0.012034  "
      ]
     },
     "execution_count": 53,
     "metadata": {},
     "output_type": "execute_result"
    }
   ],
   "source": [
    "df2.head()"
   ]
  },
  {
   "cell_type": "code",
   "execution_count": 78,
   "metadata": {},
   "outputs": [],
   "source": [
    "X_train, X_test, y_train, y_test = train_test_split(X,y, train_size = 0.6, test_size = 0.4, random_state = 42)"
   ]
  },
  {
   "cell_type": "code",
   "execution_count": 79,
   "metadata": {},
   "outputs": [
    {
     "name": "stderr",
     "output_type": "stream",
     "text": [
      "/home/scott/anaconda3/lib/python3.6/site-packages/sklearn/model_selection/_split.py:605: Warning: The least populated class in y has only 1 members, which is too few. The minimum number of members in any class cannot be less than n_splits=5.\n",
      "  % (min_groups, self.n_splits)), Warning)\n"
     ]
    }
   ],
   "source": [
    "param_grid = {'C':[0.001, 0.1, 1, 10]}\n",
    "clf = LogisticRegression()\n",
    "clf_cv = GridSearchCV(clf, param_grid, cv = 5)\n",
    "clf_cv.fit(X_train, y_train)\n",
    "estimator = clf_cv.best_estimator_\n",
    "y_predicted = estimator.predict(X_test)\n",
    "score = accuracy_score(y_predicted, y_test)"
   ]
  },
  {
   "cell_type": "code",
   "execution_count": 80,
   "metadata": {},
   "outputs": [
    {
     "data": {
      "text/plain": [
       "0.3431372549019608"
      ]
     },
     "execution_count": 80,
     "metadata": {},
     "output_type": "execute_result"
    }
   ],
   "source": [
    "score"
   ]
  },
  {
   "cell_type": "code",
   "execution_count": 81,
   "metadata": {},
   "outputs": [],
   "source": [
    "clf = GaussianNB()\n",
    "\n",
    "clf.fit(X_train, y_train)\n",
    "y_pred = clf.predict(X_train)\n",
    "score = accuracy_score(y_train, y_pred)"
   ]
  },
  {
   "cell_type": "code",
   "execution_count": 82,
   "metadata": {},
   "outputs": [
    {
     "data": {
      "text/plain": [
       "0.7615894039735099"
      ]
     },
     "execution_count": 82,
     "metadata": {},
     "output_type": "execute_result"
    }
   ],
   "source": [
    "score"
   ]
  },
  {
   "cell_type": "code",
   "execution_count": 83,
   "metadata": {},
   "outputs": [],
   "source": [
    "ytest_pred = clf.predict(X_test)\n",
    "score = accuracy_score(y_test, ytest_pred)"
   ]
  },
  {
   "cell_type": "code",
   "execution_count": 84,
   "metadata": {},
   "outputs": [
    {
     "data": {
      "text/plain": [
       "0.5686274509803921"
      ]
     },
     "execution_count": 84,
     "metadata": {},
     "output_type": "execute_result"
    }
   ],
   "source": [
    "score"
   ]
  },
  {
   "cell_type": "code",
   "execution_count": 85,
   "metadata": {},
   "outputs": [],
   "source": [
    "from sklearn.naive_bayes import BernoulliNB"
   ]
  },
  {
   "cell_type": "code",
   "execution_count": 86,
   "metadata": {},
   "outputs": [],
   "source": [
    "clf = BernoulliNB()\n",
    "\n",
    "clf.fit(X_train, y_train)\n",
    "y_pred = clf.predict(X_train)\n",
    "score = accuracy_score(y_train, y_pred)"
   ]
  },
  {
   "cell_type": "code",
   "execution_count": 87,
   "metadata": {},
   "outputs": [
    {
     "data": {
      "text/plain": [
       "0.32450331125827814"
      ]
     },
     "execution_count": 87,
     "metadata": {},
     "output_type": "execute_result"
    }
   ],
   "source": [
    "score"
   ]
  },
  {
   "cell_type": "code",
   "execution_count": 88,
   "metadata": {},
   "outputs": [],
   "source": [
    "from sklearn.cluster import KMeans"
   ]
  },
  {
   "cell_type": "code",
   "execution_count": 92,
   "metadata": {},
   "outputs": [
    {
     "data": {
      "image/png": "[encoded data removed]",
      "text/plain": [
       "<matplotlib.figure.Figure at 0x7f691dac77f0>"
      ]
     },
     "metadata": {},
     "output_type": "display_data"
    }
   ],
   "source": [
    "ks = range(1,11)\n",
    "inertias = []\n",
    "for k in ks:\n",
    "    cluster = KMeans(n_clusters=k)\n",
    "    cluster.fit(X_train)\n",
    "    inertias.append(cluster.inertia_)\n",
    "    \n",
    "    \n",
    "fig = plt.figure()\n",
    "plt.plot(ks, inertias, marker = 'o')\n",
    "plt.xlabel('Number of Clusters')\n",
    "plt.ylabel('Inertia')\n",
    "plt.title('K-Means Elbow Graph')\n",
    "plt.show()"
   ]
  },
  {
   "cell_type": "code",
   "execution_count": 93,
   "metadata": {},
   "outputs": [
    {
     "data": {
      "text/plain": [
       "0.13245033112582782"
      ]
     },
     "execution_count": 93,
     "metadata": {},
     "output_type": "execute_result"
    }
   ],
   "source": [
    "clf = KMeans(n_clusters=3)\n",
    "clf.fit(X_train)\n",
    "y_pred = clf.predict(X_train)\n",
    "accuracy_score(y_train,y_pred)"
   ]
  },
  {
   "cell_type": "code",
   "execution_count": null,
   "metadata": {},
   "outputs": [],
   "source": []
  }
 ],
 "metadata": {
  "kernelspec": {
   "display_name": "Python 3",
   "language": "python",
   "name": "python3"
  },
  "language_info": {
   "codemirror_mode": {
    "name": "ipython",
    "version": 3
   },
   "file_extension": ".py",
   "mimetype": "text/x-python",
   "name": "python",
   "nbconvert_exporter": "python",
   "pygments_lexer": "ipython3",
   "version": "3.6.4"
  }
 },
 "nbformat": 4,
 "nbformat_minor": 2
}
